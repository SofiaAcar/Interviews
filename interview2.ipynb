{
 "cells": [
  {
   "cell_type": "code",
   "execution_count": 1,
   "id": "e924335d",
   "metadata": {},
   "outputs": [],
   "source": [
    "import pandas as pd      \n",
    "import numpy as np \n",
    "import matplotlib.pyplot as plt\n",
    "import seaborn as sns\n",
    "from sklearn.preprocessing import StandardScaler, MinMaxScaler, RobustScaler\n",
    "from sklearn.metrics import mean_squared_error, mean_absolute_error, r2_score\n",
    "from sklearn.model_selection import train_test_split\n",
    "\n",
    "from scipy.stats import skew\n",
    "\n",
    "from sklearn.model_selection import cross_validate, cross_val_score\n",
    "import warnings\n",
    "warnings.filterwarnings('ignore')\n",
    "plt.rcParams[\"figure.figsize\"] = (10,6)\n",
    "pd.set_option('display.max_columns', 500)\n",
    "pd.set_option('display.max_rows', 500)\n",
    "pd.options.display.float_format = '{:.3f}'.format"
   ]
  },
  {
   "cell_type": "code",
   "execution_count": 2,
   "id": "4f79aba0",
   "metadata": {},
   "outputs": [],
   "source": [
    "df = pd.read_csv(\"health_train.csv\")"
   ]
  },
  {
   "cell_type": "code",
   "execution_count": 3,
   "id": "16f32ff9",
   "metadata": {},
   "outputs": [
    {
     "data": {
      "text/html": [
       "<div>\n",
       "<style scoped>\n",
       "    .dataframe tbody tr th:only-of-type {\n",
       "        vertical-align: middle;\n",
       "    }\n",
       "\n",
       "    .dataframe tbody tr th {\n",
       "        vertical-align: top;\n",
       "    }\n",
       "\n",
       "    .dataframe thead th {\n",
       "        text-align: right;\n",
       "    }\n",
       "</style>\n",
       "<table border=\"1\" class=\"dataframe\">\n",
       "  <thead>\n",
       "    <tr style=\"text-align: right;\">\n",
       "      <th></th>\n",
       "      <th>age</th>\n",
       "      <th>sex</th>\n",
       "      <th>bmi</th>\n",
       "      <th>smoker</th>\n",
       "      <th>region</th>\n",
       "      <th>children</th>\n",
       "      <th>charges</th>\n",
       "    </tr>\n",
       "  </thead>\n",
       "  <tbody>\n",
       "    <tr>\n",
       "      <th>0</th>\n",
       "      <td>21.000</td>\n",
       "      <td>male</td>\n",
       "      <td>25.745</td>\n",
       "      <td>no</td>\n",
       "      <td>northeast</td>\n",
       "      <td>2</td>\n",
       "      <td>3279.869</td>\n",
       "    </tr>\n",
       "    <tr>\n",
       "      <th>1</th>\n",
       "      <td>36.977</td>\n",
       "      <td>female</td>\n",
       "      <td>25.744</td>\n",
       "      <td>yes</td>\n",
       "      <td>southeast</td>\n",
       "      <td>3</td>\n",
       "      <td>21454.494</td>\n",
       "    </tr>\n",
       "    <tr>\n",
       "      <th>2</th>\n",
       "      <td>18.000</td>\n",
       "      <td>male</td>\n",
       "      <td>30.030</td>\n",
       "      <td>no</td>\n",
       "      <td>southeast</td>\n",
       "      <td>1</td>\n",
       "      <td>1720.354</td>\n",
       "    </tr>\n",
       "    <tr>\n",
       "      <th>3</th>\n",
       "      <td>37.000</td>\n",
       "      <td>male</td>\n",
       "      <td>30.677</td>\n",
       "      <td>no</td>\n",
       "      <td>northeast</td>\n",
       "      <td>3</td>\n",
       "      <td>6801.438</td>\n",
       "    </tr>\n",
       "    <tr>\n",
       "      <th>4</th>\n",
       "      <td>58.000</td>\n",
       "      <td>male</td>\n",
       "      <td>32.010</td>\n",
       "      <td>no</td>\n",
       "      <td>southeast</td>\n",
       "      <td>1</td>\n",
       "      <td>11946.626</td>\n",
       "    </tr>\n",
       "    <tr>\n",
       "      <th>...</th>\n",
       "      <td>...</td>\n",
       "      <td>...</td>\n",
       "      <td>...</td>\n",
       "      <td>...</td>\n",
       "      <td>...</td>\n",
       "      <td>...</td>\n",
       "      <td>...</td>\n",
       "    </tr>\n",
       "    <tr>\n",
       "      <th>2495</th>\n",
       "      <td>31.058</td>\n",
       "      <td>male</td>\n",
       "      <td>27.555</td>\n",
       "      <td>no</td>\n",
       "      <td>southeast</td>\n",
       "      <td>4</td>\n",
       "      <td>5889.104</td>\n",
       "    </tr>\n",
       "    <tr>\n",
       "      <th>2496</th>\n",
       "      <td>36.834</td>\n",
       "      <td>male</td>\n",
       "      <td>30.322</td>\n",
       "      <td>no</td>\n",
       "      <td>northeast</td>\n",
       "      <td>3</td>\n",
       "      <td>6788.534</td>\n",
       "    </tr>\n",
       "    <tr>\n",
       "      <th>2497</th>\n",
       "      <td>56.000</td>\n",
       "      <td>female</td>\n",
       "      <td>36.180</td>\n",
       "      <td>no</td>\n",
       "      <td>northwest</td>\n",
       "      <td>2</td>\n",
       "      <td>12401.747</td>\n",
       "    </tr>\n",
       "    <tr>\n",
       "      <th>2498</th>\n",
       "      <td>49.000</td>\n",
       "      <td>male</td>\n",
       "      <td>36.430</td>\n",
       "      <td>no</td>\n",
       "      <td>northwest</td>\n",
       "      <td>3</td>\n",
       "      <td>10376.295</td>\n",
       "    </tr>\n",
       "    <tr>\n",
       "      <th>2499</th>\n",
       "      <td>33.000</td>\n",
       "      <td>male</td>\n",
       "      <td>36.641</td>\n",
       "      <td>no</td>\n",
       "      <td>southwest</td>\n",
       "      <td>5</td>\n",
       "      <td>6658.237</td>\n",
       "    </tr>\n",
       "  </tbody>\n",
       "</table>\n",
       "<p>2500 rows × 7 columns</p>\n",
       "</div>"
      ],
      "text/plain": [
       "        age     sex    bmi smoker     region  children   charges\n",
       "0    21.000    male 25.745     no  northeast         2  3279.869\n",
       "1    36.977  female 25.744    yes  southeast         3 21454.494\n",
       "2    18.000    male 30.030     no  southeast         1  1720.354\n",
       "3    37.000    male 30.677     no  northeast         3  6801.438\n",
       "4    58.000    male 32.010     no  southeast         1 11946.626\n",
       "...     ...     ...    ...    ...        ...       ...       ...\n",
       "2495 31.058    male 27.555     no  southeast         4  5889.104\n",
       "2496 36.834    male 30.322     no  northeast         3  6788.534\n",
       "2497 56.000  female 36.180     no  northwest         2 12401.747\n",
       "2498 49.000    male 36.430     no  northwest         3 10376.295\n",
       "2499 33.000    male 36.641     no  southwest         5  6658.237\n",
       "\n",
       "[2500 rows x 7 columns]"
      ]
     },
     "execution_count": 3,
     "metadata": {},
     "output_type": "execute_result"
    }
   ],
   "source": [
    "df"
   ]
  },
  {
   "cell_type": "code",
   "execution_count": 4,
   "id": "056ee916",
   "metadata": {},
   "outputs": [
    {
     "name": "stdout",
     "output_type": "stream",
     "text": [
      "<class 'pandas.core.frame.DataFrame'>\n",
      "RangeIndex: 2500 entries, 0 to 2499\n",
      "Data columns (total 7 columns):\n",
      " #   Column    Non-Null Count  Dtype  \n",
      "---  ------    --------------  -----  \n",
      " 0   age       2500 non-null   float64\n",
      " 1   sex       2500 non-null   object \n",
      " 2   bmi       2500 non-null   float64\n",
      " 3   smoker    2500 non-null   object \n",
      " 4   region    2500 non-null   object \n",
      " 5   children  2500 non-null   int64  \n",
      " 6   charges   2500 non-null   float64\n",
      "dtypes: float64(3), int64(1), object(3)\n",
      "memory usage: 136.8+ KB\n"
     ]
    }
   ],
   "source": [
    "df.info()"
   ]
  },
  {
   "cell_type": "code",
   "execution_count": 5,
   "id": "50b80a65",
   "metadata": {},
   "outputs": [
    {
     "data": {
      "text/html": [
       "<div>\n",
       "<style scoped>\n",
       "    .dataframe tbody tr th:only-of-type {\n",
       "        vertical-align: middle;\n",
       "    }\n",
       "\n",
       "    .dataframe tbody tr th {\n",
       "        vertical-align: top;\n",
       "    }\n",
       "\n",
       "    .dataframe thead th {\n",
       "        text-align: right;\n",
       "    }\n",
       "</style>\n",
       "<table border=\"1\" class=\"dataframe\">\n",
       "  <thead>\n",
       "    <tr style=\"text-align: right;\">\n",
       "      <th></th>\n",
       "      <th>age</th>\n",
       "      <th>bmi</th>\n",
       "      <th>children</th>\n",
       "      <th>charges</th>\n",
       "    </tr>\n",
       "  </thead>\n",
       "  <tbody>\n",
       "    <tr>\n",
       "      <th>count</th>\n",
       "      <td>2500.000</td>\n",
       "      <td>2500.000</td>\n",
       "      <td>2500.000</td>\n",
       "      <td>2500.000</td>\n",
       "    </tr>\n",
       "    <tr>\n",
       "      <th>mean</th>\n",
       "      <td>39.003</td>\n",
       "      <td>30.575</td>\n",
       "      <td>2.488</td>\n",
       "      <td>12679.312</td>\n",
       "    </tr>\n",
       "    <tr>\n",
       "      <th>std</th>\n",
       "      <td>12.265</td>\n",
       "      <td>5.390</td>\n",
       "      <td>1.707</td>\n",
       "      <td>10593.270</td>\n",
       "    </tr>\n",
       "    <tr>\n",
       "      <th>min</th>\n",
       "      <td>18.000</td>\n",
       "      <td>15.960</td>\n",
       "      <td>0.000</td>\n",
       "      <td>1121.874</td>\n",
       "    </tr>\n",
       "    <tr>\n",
       "      <th>25%</th>\n",
       "      <td>28.846</td>\n",
       "      <td>26.718</td>\n",
       "      <td>1.000</td>\n",
       "      <td>5612.781</td>\n",
       "    </tr>\n",
       "    <tr>\n",
       "      <th>50%</th>\n",
       "      <td>39.350</td>\n",
       "      <td>30.200</td>\n",
       "      <td>2.000</td>\n",
       "      <td>9455.047</td>\n",
       "    </tr>\n",
       "    <tr>\n",
       "      <th>75%</th>\n",
       "      <td>48.689</td>\n",
       "      <td>34.046</td>\n",
       "      <td>4.000</td>\n",
       "      <td>14440.628</td>\n",
       "    </tr>\n",
       "    <tr>\n",
       "      <th>max</th>\n",
       "      <td>64.000</td>\n",
       "      <td>53.130</td>\n",
       "      <td>5.000</td>\n",
       "      <td>63770.428</td>\n",
       "    </tr>\n",
       "  </tbody>\n",
       "</table>\n",
       "</div>"
      ],
      "text/plain": [
       "           age      bmi  children   charges\n",
       "count 2500.000 2500.000  2500.000  2500.000\n",
       "mean    39.003   30.575     2.488 12679.312\n",
       "std     12.265    5.390     1.707 10593.270\n",
       "min     18.000   15.960     0.000  1121.874\n",
       "25%     28.846   26.718     1.000  5612.781\n",
       "50%     39.350   30.200     2.000  9455.047\n",
       "75%     48.689   34.046     4.000 14440.628\n",
       "max     64.000   53.130     5.000 63770.428"
      ]
     },
     "execution_count": 5,
     "metadata": {},
     "output_type": "execute_result"
    }
   ],
   "source": [
    "df.describe()"
   ]
  },
  {
   "cell_type": "code",
   "execution_count": 6,
   "id": "5ba573a5",
   "metadata": {},
   "outputs": [
    {
     "name": "stdout",
     "output_type": "stream",
     "text": [
      "sex   : 2\n",
      "smoker: 2\n",
      "region: 4\n"
     ]
    }
   ],
   "source": [
    "for col in df.select_dtypes('object'):\n",
    "    print(f\"{col:<6}:\", df[col].nunique())"
   ]
  },
  {
   "cell_type": "code",
   "execution_count": 7,
   "id": "04b86f46",
   "metadata": {},
   "outputs": [
    {
     "data": {
      "text/plain": [
       "<AxesSubplot:>"
      ]
     },
     "execution_count": 7,
     "metadata": {},
     "output_type": "execute_result"
    },
    {
     "data": {
      "image/png": "[encoded data removed]",
      "text/plain": [
       "<Figure size 720x432 with 2 Axes>"
      ]
     },
     "metadata": {
      "needs_background": "light"
     },
     "output_type": "display_data"
    }
   ],
   "source": [
    "sns.heatmap(df.select_dtypes(include =\"number\").corr(), annot =True)"
   ]
  },
  {
   "cell_type": "code",
   "execution_count": 8,
   "id": "8b1bb347",
   "metadata": {},
   "outputs": [
    {
     "data": {
      "text/plain": [
       "<AxesSubplot:xlabel='charges'>"
      ]
     },
     "execution_count": 8,
     "metadata": {},
     "output_type": "execute_result"
    },
    {
     "data": {
      "image/png": "[encoded data removed]",
      "text/plain": [
       "<Figure size 720x432 with 1 Axes>"
      ]
     },
     "metadata": {
      "needs_background": "light"
     },
     "output_type": "display_data"
    }
   ],
   "source": [
    "sns.boxplot(df.charges)"
   ]
  },
  {
   "cell_type": "code",
   "execution_count": 9,
   "id": "a6f7f51a",
   "metadata": {},
   "outputs": [
    {
     "data": {
      "text/plain": [
       "False    2500\n",
       "dtype: int64"
      ]
     },
     "execution_count": 9,
     "metadata": {},
     "output_type": "execute_result"
    }
   ],
   "source": [
    "df.duplicated().value_counts()"
   ]
  },
  {
   "cell_type": "code",
   "execution_count": 10,
   "id": "6e539b02",
   "metadata": {},
   "outputs": [
    {
     "data": {
      "text/plain": [
       "Index(['age', 'sex', 'bmi', 'smoker', 'region', 'children', 'charges'], dtype='object')"
      ]
     },
     "execution_count": 10,
     "metadata": {},
     "output_type": "execute_result"
    }
   ],
   "source": [
    "df.columns"
   ]
  },
  {
   "cell_type": "code",
   "execution_count": 11,
   "id": "80de8550",
   "metadata": {},
   "outputs": [
    {
     "data": {
      "text/plain": [
       "<AxesSubplot:xlabel='bmi'>"
      ]
     },
     "execution_count": 11,
     "metadata": {},
     "output_type": "execute_result"
    },
    {
     "data": {
      "image/png": "[encoded data removed]",
      "text/plain": [
       "<Figure size 720x432 with 1 Axes>"
      ]
     },
     "metadata": {
      "needs_background": "light"
     },
     "output_type": "display_data"
    }
   ],
   "source": [
    "sns.boxplot(df.bmi)"
   ]
  },
  {
   "cell_type": "code",
   "execution_count": 12,
   "id": "d167e447",
   "metadata": {},
   "outputs": [],
   "source": [
    "df2 = df[df.bmi<45]"
   ]
  },
  {
   "cell_type": "code",
   "execution_count": 13,
   "id": "fa2541b9",
   "metadata": {},
   "outputs": [
    {
     "data": {
      "text/plain": [
       "<AxesSubplot:xlabel='bmi'>"
      ]
     },
     "execution_count": 13,
     "metadata": {},
     "output_type": "execute_result"
    },
    {
     "data": {
      "image/png": "[encoded data removed]",
      "text/plain": [
       "<Figure size 720x432 with 1 Axes>"
      ]
     },
     "metadata": {
      "needs_background": "light"
     },
     "output_type": "display_data"
    }
   ],
   "source": [
    "sns.boxplot(df2.bmi)"
   ]
  },
  {
   "cell_type": "code",
   "execution_count": 14,
   "id": "d820d06f",
   "metadata": {},
   "outputs": [
    {
     "name": "stdout",
     "output_type": "stream",
     "text": [
      "<class 'pandas.core.frame.DataFrame'>\n",
      "Int64Index: 2484 entries, 0 to 2499\n",
      "Data columns (total 7 columns):\n",
      " #   Column    Non-Null Count  Dtype  \n",
      "---  ------    --------------  -----  \n",
      " 0   age       2484 non-null   float64\n",
      " 1   sex       2484 non-null   object \n",
      " 2   bmi       2484 non-null   float64\n",
      " 3   smoker    2484 non-null   object \n",
      " 4   region    2484 non-null   object \n",
      " 5   children  2484 non-null   int64  \n",
      " 6   charges   2484 non-null   float64\n",
      "dtypes: float64(3), int64(1), object(3)\n",
      "memory usage: 155.2+ KB\n"
     ]
    }
   ],
   "source": [
    "df2.info()"
   ]
  },
  {
   "cell_type": "code",
   "execution_count": 15,
   "id": "d9f172da",
   "metadata": {},
   "outputs": [
    {
     "data": {
      "text/plain": [
       "<AxesSubplot:>"
      ]
     },
     "execution_count": 15,
     "metadata": {},
     "output_type": "execute_result"
    },
    {
     "data": {
      "image/png": "[encoded data removed]",
      "text/plain": [
       "<Figure size 720x432 with 2 Axes>"
      ]
     },
     "metadata": {
      "needs_background": "light"
     },
     "output_type": "display_data"
    }
   ],
   "source": [
    "sns.heatmap(df2.select_dtypes(include =\"number\").corr(), annot =True)"
   ]
  },
  {
   "cell_type": "code",
   "execution_count": 16,
   "id": "68864bae",
   "metadata": {},
   "outputs": [
    {
     "data": {
      "text/plain": [
       "<AxesSubplot:>"
      ]
     },
     "execution_count": 16,
     "metadata": {},
     "output_type": "execute_result"
    },
    {
     "data": {
      "image/png": "[encoded data removed]",
      "text/plain": [
       "<Figure size 720x432 with 2 Axes>"
      ]
     },
     "metadata": {
      "needs_background": "light"
     },
     "output_type": "display_data"
    }
   ],
   "source": [
    "sns.heatmap(df.select_dtypes(include =\"number\").corr(), annot =True)"
   ]
  },
  {
   "cell_type": "code",
   "execution_count": 17,
   "id": "336fba75",
   "metadata": {},
   "outputs": [
    {
     "data": {
      "text/plain": [
       "<AxesSubplot:xlabel='children'>"
      ]
     },
     "execution_count": 17,
     "metadata": {},
     "output_type": "execute_result"
    },
    {
     "data": {
      "image/png": "[encoded data removed]",
      "text/plain": [
       "<Figure size 720x432 with 1 Axes>"
      ]
     },
     "metadata": {
      "needs_background": "light"
     },
     "output_type": "display_data"
    }
   ],
   "source": [
    "sns.boxplot(df.children)"
   ]
  },
  {
   "cell_type": "code",
   "execution_count": 18,
   "id": "f617c288",
   "metadata": {},
   "outputs": [
    {
     "data": {
      "text/plain": [
       "<AxesSubplot:xlabel='age'>"
      ]
     },
     "execution_count": 18,
     "metadata": {},
     "output_type": "execute_result"
    },
    {
     "data": {
      "image/png": "[encoded data removed]",
      "text/plain": [
       "<Figure size 720x432 with 1 Axes>"
      ]
     },
     "metadata": {
      "needs_background": "light"
     },
     "output_type": "display_data"
    }
   ],
   "source": [
    "sns.boxplot(df.age)"
   ]
  },
  {
   "cell_type": "code",
   "execution_count": 19,
   "id": "1f5d55a6",
   "metadata": {},
   "outputs": [],
   "source": [
    "df3 = pd.get_dummies(df2, drop_first =True)"
   ]
  },
  {
   "cell_type": "code",
   "execution_count": 20,
   "id": "e886a02b",
   "metadata": {},
   "outputs": [
    {
     "data": {
      "text/html": [
       "<div>\n",
       "<style scoped>\n",
       "    .dataframe tbody tr th:only-of-type {\n",
       "        vertical-align: middle;\n",
       "    }\n",
       "\n",
       "    .dataframe tbody tr th {\n",
       "        vertical-align: top;\n",
       "    }\n",
       "\n",
       "    .dataframe thead th {\n",
       "        text-align: right;\n",
       "    }\n",
       "</style>\n",
       "<table border=\"1\" class=\"dataframe\">\n",
       "  <thead>\n",
       "    <tr style=\"text-align: right;\">\n",
       "      <th></th>\n",
       "      <th>age</th>\n",
       "      <th>bmi</th>\n",
       "      <th>children</th>\n",
       "      <th>charges</th>\n",
       "      <th>sex_male</th>\n",
       "      <th>smoker_yes</th>\n",
       "      <th>region_northwest</th>\n",
       "      <th>region_southeast</th>\n",
       "      <th>region_southwest</th>\n",
       "    </tr>\n",
       "  </thead>\n",
       "  <tbody>\n",
       "    <tr>\n",
       "      <th>0</th>\n",
       "      <td>21.000</td>\n",
       "      <td>25.745</td>\n",
       "      <td>2</td>\n",
       "      <td>3279.869</td>\n",
       "      <td>1</td>\n",
       "      <td>0</td>\n",
       "      <td>0</td>\n",
       "      <td>0</td>\n",
       "      <td>0</td>\n",
       "    </tr>\n",
       "    <tr>\n",
       "      <th>1</th>\n",
       "      <td>36.977</td>\n",
       "      <td>25.744</td>\n",
       "      <td>3</td>\n",
       "      <td>21454.494</td>\n",
       "      <td>0</td>\n",
       "      <td>1</td>\n",
       "      <td>0</td>\n",
       "      <td>1</td>\n",
       "      <td>0</td>\n",
       "    </tr>\n",
       "    <tr>\n",
       "      <th>2</th>\n",
       "      <td>18.000</td>\n",
       "      <td>30.030</td>\n",
       "      <td>1</td>\n",
       "      <td>1720.354</td>\n",
       "      <td>1</td>\n",
       "      <td>0</td>\n",
       "      <td>0</td>\n",
       "      <td>1</td>\n",
       "      <td>0</td>\n",
       "    </tr>\n",
       "    <tr>\n",
       "      <th>3</th>\n",
       "      <td>37.000</td>\n",
       "      <td>30.677</td>\n",
       "      <td>3</td>\n",
       "      <td>6801.438</td>\n",
       "      <td>1</td>\n",
       "      <td>0</td>\n",
       "      <td>0</td>\n",
       "      <td>0</td>\n",
       "      <td>0</td>\n",
       "    </tr>\n",
       "    <tr>\n",
       "      <th>4</th>\n",
       "      <td>58.000</td>\n",
       "      <td>32.010</td>\n",
       "      <td>1</td>\n",
       "      <td>11946.626</td>\n",
       "      <td>1</td>\n",
       "      <td>0</td>\n",
       "      <td>0</td>\n",
       "      <td>1</td>\n",
       "      <td>0</td>\n",
       "    </tr>\n",
       "  </tbody>\n",
       "</table>\n",
       "</div>"
      ],
      "text/plain": [
       "     age    bmi  children   charges  sex_male  smoker_yes  region_northwest  \\\n",
       "0 21.000 25.745         2  3279.869         1           0                 0   \n",
       "1 36.977 25.744         3 21454.494         0           1                 0   \n",
       "2 18.000 30.030         1  1720.354         1           0                 0   \n",
       "3 37.000 30.677         3  6801.438         1           0                 0   \n",
       "4 58.000 32.010         1 11946.626         1           0                 0   \n",
       "\n",
       "   region_southeast  region_southwest  \n",
       "0                 0                 0  \n",
       "1                 1                 0  \n",
       "2                 1                 0  \n",
       "3                 0                 0  \n",
       "4                 1                 0  "
      ]
     },
     "execution_count": 20,
     "metadata": {},
     "output_type": "execute_result"
    }
   ],
   "source": [
    "df3.head()"
   ]
  },
  {
   "cell_type": "code",
   "execution_count": 21,
   "id": "18ee6ebc",
   "metadata": {},
   "outputs": [
    {
     "data": {
      "text/plain": [
       "(2484, 9)"
      ]
     },
     "execution_count": 21,
     "metadata": {},
     "output_type": "execute_result"
    }
   ],
   "source": [
    "df3.shape"
   ]
  },
  {
   "cell_type": "code",
   "execution_count": 22,
   "id": "e6126c67",
   "metadata": {},
   "outputs": [
    {
     "data": {
      "text/plain": [
       "False"
      ]
     },
     "execution_count": 22,
     "metadata": {},
     "output_type": "execute_result"
    }
   ],
   "source": [
    "df3.isnull().any().any()"
   ]
  },
  {
   "cell_type": "code",
   "execution_count": 23,
   "id": "73f9e02d",
   "metadata": {},
   "outputs": [
    {
     "data": {
      "text/plain": [
       "region_southwest   -0.134\n",
       "children           -0.062\n",
       "region_northwest   -0.042\n",
       "region_southeast    0.043\n",
       "sex_male            0.093\n",
       "bmi                 0.195\n",
       "age                 0.317\n",
       "smoker_yes          0.768\n",
       "Name: charges, dtype: float64"
      ]
     },
     "execution_count": 23,
     "metadata": {},
     "output_type": "execute_result"
    }
   ],
   "source": [
    "corr_by_charges = df3.corr()[\"charges\"].sort_values()[:-1]\n",
    "corr_by_charges"
   ]
  },
  {
   "cell_type": "code",
   "execution_count": 24,
   "id": "6ae810d8",
   "metadata": {},
   "outputs": [
    {
     "data": {
      "image/png": "[encoded data removed]",
      "text/plain": [
       "<Figure size 1440x720 with 1 Axes>"
      ]
     },
     "metadata": {
      "needs_background": "light"
     },
     "output_type": "display_data"
    }
   ],
   "source": [
    "plt.figure(figsize = (20,10))\n",
    "sns.barplot(x = corr_by_charges.index, y = corr_by_charges)\n",
    "plt.xticks(rotation=90)\n",
    "plt.tight_layout();"
   ]
  },
  {
   "cell_type": "code",
   "execution_count": null,
   "id": "08379fe7",
   "metadata": {},
   "outputs": [],
   "source": []
  },
  {
   "cell_type": "code",
   "execution_count": null,
   "id": "a68683f0",
   "metadata": {},
   "outputs": [],
   "source": []
  },
  {
   "cell_type": "markdown",
   "id": "fbccfbe3",
   "metadata": {},
   "source": [
    " # Test datası temizliği"
   ]
  },
  {
   "cell_type": "code",
   "execution_count": 25,
   "id": "0713dc92",
   "metadata": {},
   "outputs": [],
   "source": [
    "test = pd.read_csv(\"health_test.csv\")"
   ]
  },
  {
   "cell_type": "code",
   "execution_count": 26,
   "id": "52b7c6f0",
   "metadata": {},
   "outputs": [
    {
     "name": "stdout",
     "output_type": "stream",
     "text": [
      "<class 'pandas.core.frame.DataFrame'>\n",
      "RangeIndex: 451 entries, 0 to 450\n",
      "Data columns (total 6 columns):\n",
      " #   Column    Non-Null Count  Dtype  \n",
      "---  ------    --------------  -----  \n",
      " 0   age       451 non-null    float64\n",
      " 1   sex       451 non-null    object \n",
      " 2   bmi       451 non-null    float64\n",
      " 3   smoker    451 non-null    object \n",
      " 4   region    451 non-null    object \n",
      " 5   children  451 non-null    int64  \n",
      "dtypes: float64(2), int64(1), object(3)\n",
      "memory usage: 21.3+ KB\n"
     ]
    }
   ],
   "source": [
    "test.info()  "
   ]
  },
  {
   "cell_type": "code",
   "execution_count": 27,
   "id": "a7289c18",
   "metadata": {},
   "outputs": [],
   "source": [
    "testdummy = pd.get_dummies(test, drop_first =True)"
   ]
  },
  {
   "cell_type": "code",
   "execution_count": 28,
   "id": "789cd95d",
   "metadata": {},
   "outputs": [
    {
     "data": {
      "text/html": [
       "<div>\n",
       "<style scoped>\n",
       "    .dataframe tbody tr th:only-of-type {\n",
       "        vertical-align: middle;\n",
       "    }\n",
       "\n",
       "    .dataframe tbody tr th {\n",
       "        vertical-align: top;\n",
       "    }\n",
       "\n",
       "    .dataframe thead th {\n",
       "        text-align: right;\n",
       "    }\n",
       "</style>\n",
       "<table border=\"1\" class=\"dataframe\">\n",
       "  <thead>\n",
       "    <tr style=\"text-align: right;\">\n",
       "      <th></th>\n",
       "      <th>age</th>\n",
       "      <th>bmi</th>\n",
       "      <th>children</th>\n",
       "      <th>sex_male</th>\n",
       "      <th>smoker_yes</th>\n",
       "      <th>region_northwest</th>\n",
       "      <th>region_southeast</th>\n",
       "      <th>region_southwest</th>\n",
       "    </tr>\n",
       "  </thead>\n",
       "  <tbody>\n",
       "    <tr>\n",
       "      <th>0</th>\n",
       "      <td>39.297</td>\n",
       "      <td>29.978</td>\n",
       "      <td>4</td>\n",
       "      <td>1</td>\n",
       "      <td>0</td>\n",
       "      <td>1</td>\n",
       "      <td>0</td>\n",
       "      <td>0</td>\n",
       "    </tr>\n",
       "    <tr>\n",
       "      <th>1</th>\n",
       "      <td>40.368</td>\n",
       "      <td>27.928</td>\n",
       "      <td>5</td>\n",
       "      <td>0</td>\n",
       "      <td>0</td>\n",
       "      <td>0</td>\n",
       "      <td>1</td>\n",
       "      <td>0</td>\n",
       "    </tr>\n",
       "    <tr>\n",
       "      <th>2</th>\n",
       "      <td>32.882</td>\n",
       "      <td>41.577</td>\n",
       "      <td>5</td>\n",
       "      <td>1</td>\n",
       "      <td>0</td>\n",
       "      <td>0</td>\n",
       "      <td>0</td>\n",
       "      <td>1</td>\n",
       "    </tr>\n",
       "    <tr>\n",
       "      <th>3</th>\n",
       "      <td>62.000</td>\n",
       "      <td>30.495</td>\n",
       "      <td>2</td>\n",
       "      <td>0</td>\n",
       "      <td>0</td>\n",
       "      <td>1</td>\n",
       "      <td>0</td>\n",
       "      <td>0</td>\n",
       "    </tr>\n",
       "    <tr>\n",
       "      <th>4</th>\n",
       "      <td>32.476</td>\n",
       "      <td>30.323</td>\n",
       "      <td>4</td>\n",
       "      <td>1</td>\n",
       "      <td>1</td>\n",
       "      <td>0</td>\n",
       "      <td>0</td>\n",
       "      <td>0</td>\n",
       "    </tr>\n",
       "  </tbody>\n",
       "</table>\n",
       "</div>"
      ],
      "text/plain": [
       "     age    bmi  children  sex_male  smoker_yes  region_northwest  \\\n",
       "0 39.297 29.978         4         1           0                 1   \n",
       "1 40.368 27.928         5         0           0                 0   \n",
       "2 32.882 41.577         5         1           0                 0   \n",
       "3 62.000 30.495         2         0           0                 1   \n",
       "4 32.476 30.323         4         1           1                 0   \n",
       "\n",
       "   region_southeast  region_southwest  \n",
       "0                 0                 0  \n",
       "1                 1                 0  \n",
       "2                 0                 1  \n",
       "3                 0                 0  \n",
       "4                 0                 0  "
      ]
     },
     "execution_count": 28,
     "metadata": {},
     "output_type": "execute_result"
    }
   ],
   "source": [
    "testdummy.head()"
   ]
  },
  {
   "cell_type": "code",
   "execution_count": 29,
   "id": "15d6aa95",
   "metadata": {
    "scrolled": true
   },
   "outputs": [
    {
     "data": {
      "text/html": [
       "<div>\n",
       "<style scoped>\n",
       "    .dataframe tbody tr th:only-of-type {\n",
       "        vertical-align: middle;\n",
       "    }\n",
       "\n",
       "    .dataframe tbody tr th {\n",
       "        vertical-align: top;\n",
       "    }\n",
       "\n",
       "    .dataframe thead th {\n",
       "        text-align: right;\n",
       "    }\n",
       "</style>\n",
       "<table border=\"1\" class=\"dataframe\">\n",
       "  <thead>\n",
       "    <tr style=\"text-align: right;\">\n",
       "      <th></th>\n",
       "      <th>age</th>\n",
       "      <th>bmi</th>\n",
       "      <th>children</th>\n",
       "      <th>charges</th>\n",
       "      <th>sex_male</th>\n",
       "      <th>smoker_yes</th>\n",
       "      <th>region_northwest</th>\n",
       "      <th>region_southeast</th>\n",
       "      <th>region_southwest</th>\n",
       "    </tr>\n",
       "  </thead>\n",
       "  <tbody>\n",
       "    <tr>\n",
       "      <th>0</th>\n",
       "      <td>21.000</td>\n",
       "      <td>25.745</td>\n",
       "      <td>2</td>\n",
       "      <td>3279.869</td>\n",
       "      <td>1</td>\n",
       "      <td>0</td>\n",
       "      <td>0</td>\n",
       "      <td>0</td>\n",
       "      <td>0</td>\n",
       "    </tr>\n",
       "    <tr>\n",
       "      <th>1</th>\n",
       "      <td>36.977</td>\n",
       "      <td>25.744</td>\n",
       "      <td>3</td>\n",
       "      <td>21454.494</td>\n",
       "      <td>0</td>\n",
       "      <td>1</td>\n",
       "      <td>0</td>\n",
       "      <td>1</td>\n",
       "      <td>0</td>\n",
       "    </tr>\n",
       "    <tr>\n",
       "      <th>2</th>\n",
       "      <td>18.000</td>\n",
       "      <td>30.030</td>\n",
       "      <td>1</td>\n",
       "      <td>1720.354</td>\n",
       "      <td>1</td>\n",
       "      <td>0</td>\n",
       "      <td>0</td>\n",
       "      <td>1</td>\n",
       "      <td>0</td>\n",
       "    </tr>\n",
       "    <tr>\n",
       "      <th>3</th>\n",
       "      <td>37.000</td>\n",
       "      <td>30.677</td>\n",
       "      <td>3</td>\n",
       "      <td>6801.438</td>\n",
       "      <td>1</td>\n",
       "      <td>0</td>\n",
       "      <td>0</td>\n",
       "      <td>0</td>\n",
       "      <td>0</td>\n",
       "    </tr>\n",
       "    <tr>\n",
       "      <th>4</th>\n",
       "      <td>58.000</td>\n",
       "      <td>32.010</td>\n",
       "      <td>1</td>\n",
       "      <td>11946.626</td>\n",
       "      <td>1</td>\n",
       "      <td>0</td>\n",
       "      <td>0</td>\n",
       "      <td>1</td>\n",
       "      <td>0</td>\n",
       "    </tr>\n",
       "  </tbody>\n",
       "</table>\n",
       "</div>"
      ],
      "text/plain": [
       "     age    bmi  children   charges  sex_male  smoker_yes  region_northwest  \\\n",
       "0 21.000 25.745         2  3279.869         1           0                 0   \n",
       "1 36.977 25.744         3 21454.494         0           1                 0   \n",
       "2 18.000 30.030         1  1720.354         1           0                 0   \n",
       "3 37.000 30.677         3  6801.438         1           0                 0   \n",
       "4 58.000 32.010         1 11946.626         1           0                 0   \n",
       "\n",
       "   region_southeast  region_southwest  \n",
       "0                 0                 0  \n",
       "1                 1                 0  \n",
       "2                 1                 0  \n",
       "3                 0                 0  \n",
       "4                 1                 0  "
      ]
     },
     "execution_count": 29,
     "metadata": {},
     "output_type": "execute_result"
    }
   ],
   "source": [
    "df3.head()"
   ]
  },
  {
   "cell_type": "markdown",
   "id": "026b1fa9",
   "metadata": {},
   "source": [
    "\n",
    "# poly"
   ]
  },
  {
   "cell_type": "code",
   "execution_count": 31,
   "id": "0d03ff9d",
   "metadata": {},
   "outputs": [],
   "source": [
    "from sklearn.preprocessing import PolynomialFeatures"
   ]
  },
  {
   "cell_type": "code",
   "execution_count": 123,
   "id": "3e1b7c42",
   "metadata": {},
   "outputs": [],
   "source": [
    "polynomial_converter = PolynomialFeatures(degree=2, include_bias=False)\n",
    "\n",
    "poly_features = polynomial_converter.fit_transform(X)"
   ]
  },
  {
   "cell_type": "code",
   "execution_count": 124,
   "id": "dce168a3",
   "metadata": {},
   "outputs": [
    {
     "data": {
      "text/plain": [
       "(2484, 44)"
      ]
     },
     "execution_count": 124,
     "metadata": {},
     "output_type": "execute_result"
    }
   ],
   "source": [
    "poly_features.shape"
   ]
  },
  {
   "cell_type": "code",
   "execution_count": null,
   "id": "f13c4490",
   "metadata": {},
   "outputs": [],
   "source": []
  },
  {
   "cell_type": "markdown",
   "id": "90e54c8f",
   "metadata": {},
   "source": [
    "# Train/Test"
   ]
  },
  {
   "cell_type": "code",
   "execution_count": 30,
   "id": "bb0607ef",
   "metadata": {},
   "outputs": [],
   "source": [
    "X= df3.drop(columns=\"charges\")\n",
    "y= df3.charges"
   ]
  },
  {
   "cell_type": "code",
   "execution_count": 125,
   "id": "3e0721c1",
   "metadata": {},
   "outputs": [],
   "source": [
    "X_train, X_test, y_train, y_test = train_test_split(poly_features, y, test_size=0.2, random_state=101)"
   ]
  },
  {
   "cell_type": "code",
   "execution_count": 126,
   "id": "6ece1ceb",
   "metadata": {},
   "outputs": [
    {
     "data": {
      "text/plain": [
       "(1987, 44)"
      ]
     },
     "execution_count": 126,
     "metadata": {},
     "output_type": "execute_result"
    }
   ],
   "source": [
    "X_train.shape"
   ]
  },
  {
   "cell_type": "code",
   "execution_count": 127,
   "id": "32d078e6",
   "metadata": {},
   "outputs": [
    {
     "data": {
      "text/plain": [
       "(497, 44)"
      ]
     },
     "execution_count": 127,
     "metadata": {},
     "output_type": "execute_result"
    }
   ],
   "source": [
    "X_test.shape"
   ]
  },
  {
   "cell_type": "code",
   "execution_count": 128,
   "id": "3c7c1a03",
   "metadata": {},
   "outputs": [],
   "source": [
    "def train_val(model, X_train, y_train, X_test, y_test):\n",
    "    \n",
    "    y_pred = model.predict(X_test)\n",
    "    y_train_pred = model.predict(X_train)\n",
    "    \n",
    "    scores = {\"train\": {\"R2\" : r2_score(y_train, y_train_pred),\n",
    "    \"mae\" : mean_absolute_error(y_train, y_train_pred),\n",
    "    \"mse\" : mean_squared_error(y_train, y_train_pred),                          \n",
    "    \"rmse\" : np.sqrt(mean_squared_error(y_train, y_train_pred))},\n",
    "    \n",
    "    \"test\": {\"R2\" : r2_score(y_test, y_pred),\n",
    "    \"mae\" : mean_absolute_error(y_test, y_pred),\n",
    "    \"mse\" : mean_squared_error(y_test, y_pred),\n",
    "    \"rmse\" : np.sqrt(mean_squared_error(y_test, y_pred))}}\n",
    "    \n",
    "    return pd.DataFrame(scores)"
   ]
  },
  {
   "cell_type": "code",
   "execution_count": 129,
   "id": "e41d60f2",
   "metadata": {},
   "outputs": [],
   "source": [
    "from sklearn.preprocessing import StandardScaler, MinMaxScaler, RobustScaler\n",
    "\n",
    "scaler = MinMaxScaler()"
   ]
  },
  {
   "cell_type": "code",
   "execution_count": 130,
   "id": "b2e447e0",
   "metadata": {},
   "outputs": [
    {
     "data": {
      "text/plain": [
       "MinMaxScaler()"
      ]
     },
     "execution_count": 130,
     "metadata": {},
     "output_type": "execute_result"
    }
   ],
   "source": [
    "scaler.fit(X_train)"
   ]
  },
  {
   "cell_type": "code",
   "execution_count": 131,
   "id": "3de68f58",
   "metadata": {},
   "outputs": [
    {
     "data": {
      "text/plain": [
       "array([[0.5       , 0.41964596, 0.2       , ..., 1.        , 0.        ,\n",
       "        0.        ],\n",
       "       [0.5       , 0.733773  , 0.4       , ..., 0.        , 0.        ,\n",
       "        1.        ],\n",
       "       [0.82608696, 0.4286706 , 0.        , ..., 0.        , 0.        ,\n",
       "        0.        ],\n",
       "       ...,\n",
       "       [0.45257323, 0.24337288, 0.2       , ..., 0.        , 0.        ,\n",
       "        0.        ],\n",
       "       [0.02173913, 0.40402638, 0.        , ..., 0.        , 0.        ,\n",
       "        1.        ],\n",
       "       [0.76086957, 0.82054842, 0.2       , ..., 1.        , 0.        ,\n",
       "        0.        ]])"
      ]
     },
     "execution_count": 131,
     "metadata": {},
     "output_type": "execute_result"
    }
   ],
   "source": [
    "X_train = scaler.transform(X_train)\n",
    "X_train"
   ]
  },
  {
   "cell_type": "code",
   "execution_count": 132,
   "id": "496beadc",
   "metadata": {},
   "outputs": [
    {
     "data": {
      "text/plain": [
       "array([[0.76086957, 0.71641791, 0.6       , ..., 0.        , 0.        ,\n",
       "        1.        ],\n",
       "       [0.31343033, 0.7772883 , 1.        , ..., 0.        , 0.        ,\n",
       "        1.        ],\n",
       "       [0.96149833, 0.65568374, 0.2       , ..., 1.        , 0.        ,\n",
       "        0.        ],\n",
       "       ...,\n",
       "       [0.65217391, 0.71860083, 0.8       , ..., 0.        , 0.        ,\n",
       "        0.        ],\n",
       "       [0.54585599, 0.42923462, 0.4       , ..., 0.        , 0.        ,\n",
       "        1.        ],\n",
       "       [0.64815127, 0.47709182, 0.8       , ..., 0.        , 0.        ,\n",
       "        0.        ]])"
      ]
     },
     "execution_count": 132,
     "metadata": {},
     "output_type": "execute_result"
    }
   ],
   "source": [
    "X_test = scaler.transform(X_test)\n",
    "X_test"
   ]
  },
  {
   "cell_type": "code",
   "execution_count": 133,
   "id": "1464ac11",
   "metadata": {},
   "outputs": [
    {
     "data": {
      "text/plain": [
       "LinearRegression()"
      ]
     },
     "execution_count": 133,
     "metadata": {},
     "output_type": "execute_result"
    }
   ],
   "source": [
    "from sklearn.linear_model import LinearRegression\n",
    "lm = LinearRegression()\n",
    "lm.fit(X_train, y_train)"
   ]
  },
  {
   "cell_type": "code",
   "execution_count": 134,
   "id": "458398e8",
   "metadata": {},
   "outputs": [],
   "source": [
    "y_pred = lm.predict(X_test)\n",
    "y_train_pred = lm.predict(X_train)"
   ]
  },
  {
   "cell_type": "code",
   "execution_count": 135,
   "id": "1e21925e",
   "metadata": {},
   "outputs": [
    {
     "data": {
      "text/html": [
       "<div>\n",
       "<style scoped>\n",
       "    .dataframe tbody tr th:only-of-type {\n",
       "        vertical-align: middle;\n",
       "    }\n",
       "\n",
       "    .dataframe tbody tr th {\n",
       "        vertical-align: top;\n",
       "    }\n",
       "\n",
       "    .dataframe thead th {\n",
       "        text-align: right;\n",
       "    }\n",
       "</style>\n",
       "<table border=\"1\" class=\"dataframe\">\n",
       "  <thead>\n",
       "    <tr style=\"text-align: right;\">\n",
       "      <th></th>\n",
       "      <th>train</th>\n",
       "      <th>test</th>\n",
       "    </tr>\n",
       "  </thead>\n",
       "  <tbody>\n",
       "    <tr>\n",
       "      <th>R2</th>\n",
       "      <td>0.815</td>\n",
       "      <td>0.823</td>\n",
       "    </tr>\n",
       "    <tr>\n",
       "      <th>mae</th>\n",
       "      <td>2658.324</td>\n",
       "      <td>2673.186</td>\n",
       "    </tr>\n",
       "    <tr>\n",
       "      <th>mse</th>\n",
       "      <td>20374178.123</td>\n",
       "      <td>19526561.435</td>\n",
       "    </tr>\n",
       "    <tr>\n",
       "      <th>rmse</th>\n",
       "      <td>4513.776</td>\n",
       "      <td>4418.887</td>\n",
       "    </tr>\n",
       "  </tbody>\n",
       "</table>\n",
       "</div>"
      ],
      "text/plain": [
       "            train         test\n",
       "R2          0.815        0.823\n",
       "mae      2658.324     2673.186\n",
       "mse  20374178.123 19526561.435\n",
       "rmse     4513.776     4418.887"
      ]
     },
     "execution_count": 135,
     "metadata": {},
     "output_type": "execute_result"
    }
   ],
   "source": [
    "train_val(lm, X_train, y_train, X_test, y_test)"
   ]
  },
  {
   "cell_type": "code",
   "execution_count": 136,
   "id": "19662fc5",
   "metadata": {},
   "outputs": [],
   "source": [
    "model = LinearRegression()\n",
    "scores = cross_validate(model, X_train, y_train, scoring=['r2', \n",
    "            'neg_mean_absolute_error','neg_mean_squared_error','neg_root_mean_squared_error'], cv =10)"
   ]
  },
  {
   "cell_type": "code",
   "execution_count": 137,
   "id": "1cca1320",
   "metadata": {},
   "outputs": [
    {
     "data": {
      "text/html": [
       "<div>\n",
       "<style scoped>\n",
       "    .dataframe tbody tr th:only-of-type {\n",
       "        vertical-align: middle;\n",
       "    }\n",
       "\n",
       "    .dataframe tbody tr th {\n",
       "        vertical-align: top;\n",
       "    }\n",
       "\n",
       "    .dataframe thead th {\n",
       "        text-align: right;\n",
       "    }\n",
       "</style>\n",
       "<table border=\"1\" class=\"dataframe\">\n",
       "  <thead>\n",
       "    <tr style=\"text-align: right;\">\n",
       "      <th></th>\n",
       "      <th>fit_time</th>\n",
       "      <th>score_time</th>\n",
       "      <th>test_r2</th>\n",
       "      <th>test_neg_mean_absolute_error</th>\n",
       "      <th>test_neg_mean_squared_error</th>\n",
       "      <th>test_neg_root_mean_squared_error</th>\n",
       "    </tr>\n",
       "  </thead>\n",
       "  <tbody>\n",
       "    <tr>\n",
       "      <th>0</th>\n",
       "      <td>0.003</td>\n",
       "      <td>0.001</td>\n",
       "      <td>0.718</td>\n",
       "      <td>-2969.629</td>\n",
       "      <td>-26320992.822</td>\n",
       "      <td>-5130.399</td>\n",
       "    </tr>\n",
       "    <tr>\n",
       "      <th>1</th>\n",
       "      <td>0.003</td>\n",
       "      <td>0.001</td>\n",
       "      <td>0.782</td>\n",
       "      <td>-2941.435</td>\n",
       "      <td>-25479961.027</td>\n",
       "      <td>-5047.768</td>\n",
       "    </tr>\n",
       "    <tr>\n",
       "      <th>2</th>\n",
       "      <td>0.003</td>\n",
       "      <td>0.001</td>\n",
       "      <td>0.806</td>\n",
       "      <td>-2585.096</td>\n",
       "      <td>-17409914.672</td>\n",
       "      <td>-4172.519</td>\n",
       "    </tr>\n",
       "    <tr>\n",
       "      <th>3</th>\n",
       "      <td>0.002</td>\n",
       "      <td>0.001</td>\n",
       "      <td>0.800</td>\n",
       "      <td>-2895.542</td>\n",
       "      <td>-21890849.628</td>\n",
       "      <td>-4678.766</td>\n",
       "    </tr>\n",
       "    <tr>\n",
       "      <th>4</th>\n",
       "      <td>0.002</td>\n",
       "      <td>0.001</td>\n",
       "      <td>0.832</td>\n",
       "      <td>-2847.047</td>\n",
       "      <td>-22239027.410</td>\n",
       "      <td>-4715.827</td>\n",
       "    </tr>\n",
       "    <tr>\n",
       "      <th>5</th>\n",
       "      <td>0.002</td>\n",
       "      <td>0.001</td>\n",
       "      <td>0.844</td>\n",
       "      <td>-2646.853</td>\n",
       "      <td>-19734178.451</td>\n",
       "      <td>-4442.317</td>\n",
       "    </tr>\n",
       "    <tr>\n",
       "      <th>6</th>\n",
       "      <td>0.002</td>\n",
       "      <td>0.001</td>\n",
       "      <td>0.840</td>\n",
       "      <td>-2339.435</td>\n",
       "      <td>-17193408.243</td>\n",
       "      <td>-4146.493</td>\n",
       "    </tr>\n",
       "    <tr>\n",
       "      <th>7</th>\n",
       "      <td>0.003</td>\n",
       "      <td>0.001</td>\n",
       "      <td>0.723</td>\n",
       "      <td>-2708.649</td>\n",
       "      <td>-22418601.704</td>\n",
       "      <td>-4734.829</td>\n",
       "    </tr>\n",
       "    <tr>\n",
       "      <th>8</th>\n",
       "      <td>0.002</td>\n",
       "      <td>0.001</td>\n",
       "      <td>0.836</td>\n",
       "      <td>-2849.105</td>\n",
       "      <td>-22546803.153</td>\n",
       "      <td>-4748.347</td>\n",
       "    </tr>\n",
       "    <tr>\n",
       "      <th>9</th>\n",
       "      <td>0.003</td>\n",
       "      <td>0.001</td>\n",
       "      <td>0.828</td>\n",
       "      <td>-2552.461</td>\n",
       "      <td>-17547946.628</td>\n",
       "      <td>-4189.027</td>\n",
       "    </tr>\n",
       "  </tbody>\n",
       "</table>\n",
       "</div>"
      ],
      "text/plain": [
       "   fit_time  score_time  test_r2  test_neg_mean_absolute_error  \\\n",
       "0     0.003       0.001    0.718                     -2969.629   \n",
       "1     0.003       0.001    0.782                     -2941.435   \n",
       "2     0.003       0.001    0.806                     -2585.096   \n",
       "3     0.002       0.001    0.800                     -2895.542   \n",
       "4     0.002       0.001    0.832                     -2847.047   \n",
       "5     0.002       0.001    0.844                     -2646.853   \n",
       "6     0.002       0.001    0.840                     -2339.435   \n",
       "7     0.003       0.001    0.723                     -2708.649   \n",
       "8     0.002       0.001    0.836                     -2849.105   \n",
       "9     0.003       0.001    0.828                     -2552.461   \n",
       "\n",
       "   test_neg_mean_squared_error  test_neg_root_mean_squared_error  \n",
       "0                -26320992.822                         -5130.399  \n",
       "1                -25479961.027                         -5047.768  \n",
       "2                -17409914.672                         -4172.519  \n",
       "3                -21890849.628                         -4678.766  \n",
       "4                -22239027.410                         -4715.827  \n",
       "5                -19734178.451                         -4442.317  \n",
       "6                -17193408.243                         -4146.493  \n",
       "7                -22418601.704                         -4734.829  \n",
       "8                -22546803.153                         -4748.347  \n",
       "9                -17547946.628                         -4189.027  "
      ]
     },
     "execution_count": 137,
     "metadata": {},
     "output_type": "execute_result"
    }
   ],
   "source": [
    "pd.DataFrame(scores)"
   ]
  },
  {
   "cell_type": "code",
   "execution_count": 138,
   "id": "1de2c774",
   "metadata": {},
   "outputs": [
    {
     "data": {
      "text/plain": [
       "test_r2                                    0.801\n",
       "test_neg_mean_absolute_error           -2733.525\n",
       "test_neg_mean_squared_error        -21278168.374\n",
       "test_neg_root_mean_squared_error       -4600.629\n",
       "dtype: float64"
      ]
     },
     "execution_count": 138,
     "metadata": {},
     "output_type": "execute_result"
    }
   ],
   "source": [
    "pd.DataFrame(scores).iloc[:, 2:].mean()"
   ]
  },
  {
   "cell_type": "code",
   "execution_count": 139,
   "id": "339ba120",
   "metadata": {},
   "outputs": [
    {
     "data": {
      "image/png": "[encoded data removed]",
      "text/plain": [
       "<Figure size 720x3000 with 1 Axes>"
      ]
     },
     "metadata": {},
     "output_type": "display_data"
    }
   ],
   "source": [
    "from yellowbrick.regressor import PredictionError\n",
    "from yellowbrick.features import RadViz\n",
    "\n",
    "visualizer = RadViz(size=(720, 3000))\n",
    "model = LinearRegression()\n",
    "visualizer = PredictionError(model)\n",
    "visualizer.fit(X_train, y_train)  # Fit the training data to the visualizer\n",
    "visualizer.score(X_test, y_test)  # Evaluate the model on the test data\n",
    "visualizer.show();"
   ]
  },
  {
   "cell_type": "code",
   "execution_count": 140,
   "id": "72cbb1a1",
   "metadata": {},
   "outputs": [
    {
     "data": {
      "image/png": "[encoded data removed]",
      "text/plain": [
       "<Figure size 1000x720 with 2 Axes>"
      ]
     },
     "metadata": {},
     "output_type": "display_data"
    }
   ],
   "source": [
    "from yellowbrick.regressor import ResidualsPlot\n",
    "\n",
    "visualizer = RadViz(size=(1000, 720))\n",
    "model = LinearRegression()\n",
    "visualizer = ResidualsPlot(model)\n",
    "\n",
    "visualizer.fit(X_train, y_train)  # Fit the training data to the visualizer\n",
    "visualizer.score(X_test, y_test)  # Evaluate the model on the test data\n",
    "visualizer.show();  "
   ]
  },
  {
   "cell_type": "code",
   "execution_count": 141,
   "id": "89527353",
   "metadata": {},
   "outputs": [],
   "source": [
    "my_dict = { 'Actual': y_test, 'Pred': y_pred, 'Residual': y_test-y_pred }\n",
    "compare = pd.DataFrame(my_dict)"
   ]
  },
  {
   "cell_type": "code",
   "execution_count": 142,
   "id": "4ef37cb3",
   "metadata": {},
   "outputs": [
    {
     "data": {
      "text/html": [
       "<div>\n",
       "<style scoped>\n",
       "    .dataframe tbody tr th:only-of-type {\n",
       "        vertical-align: middle;\n",
       "    }\n",
       "\n",
       "    .dataframe tbody tr th {\n",
       "        vertical-align: top;\n",
       "    }\n",
       "\n",
       "    .dataframe thead th {\n",
       "        text-align: right;\n",
       "    }\n",
       "</style>\n",
       "<table border=\"1\" class=\"dataframe\">\n",
       "  <thead>\n",
       "    <tr style=\"text-align: right;\">\n",
       "      <th></th>\n",
       "      <th>Actual</th>\n",
       "      <th>Pred</th>\n",
       "      <th>Residual</th>\n",
       "    </tr>\n",
       "  </thead>\n",
       "  <tbody>\n",
       "    <tr>\n",
       "      <th>1531</th>\n",
       "      <td>18191.734</td>\n",
       "      <td>13191.753</td>\n",
       "      <td>4999.980</td>\n",
       "    </tr>\n",
       "    <tr>\n",
       "      <th>2313</th>\n",
       "      <td>3535.178</td>\n",
       "      <td>4486.088</td>\n",
       "      <td>-950.910</td>\n",
       "    </tr>\n",
       "    <tr>\n",
       "      <th>953</th>\n",
       "      <td>2457.211</td>\n",
       "      <td>4467.069</td>\n",
       "      <td>-2009.858</td>\n",
       "    </tr>\n",
       "    <tr>\n",
       "      <th>2151</th>\n",
       "      <td>11475.544</td>\n",
       "      <td>14043.212</td>\n",
       "      <td>-2567.669</td>\n",
       "    </tr>\n",
       "    <tr>\n",
       "      <th>1954</th>\n",
       "      <td>2203.472</td>\n",
       "      <td>4681.359</td>\n",
       "      <td>-2477.887</td>\n",
       "    </tr>\n",
       "    <tr>\n",
       "      <th>1952</th>\n",
       "      <td>2904.088</td>\n",
       "      <td>3233.712</td>\n",
       "      <td>-329.624</td>\n",
       "    </tr>\n",
       "    <tr>\n",
       "      <th>1485</th>\n",
       "      <td>14310.497</td>\n",
       "      <td>14932.358</td>\n",
       "      <td>-621.861</td>\n",
       "    </tr>\n",
       "    <tr>\n",
       "      <th>190</th>\n",
       "      <td>9091.857</td>\n",
       "      <td>9983.087</td>\n",
       "      <td>-891.230</td>\n",
       "    </tr>\n",
       "    <tr>\n",
       "      <th>1009</th>\n",
       "      <td>18767.738</td>\n",
       "      <td>14879.087</td>\n",
       "      <td>3888.650</td>\n",
       "    </tr>\n",
       "    <tr>\n",
       "      <th>201</th>\n",
       "      <td>4022.565</td>\n",
       "      <td>6661.650</td>\n",
       "      <td>-2639.085</td>\n",
       "    </tr>\n",
       "    <tr>\n",
       "      <th>1384</th>\n",
       "      <td>38514.670</td>\n",
       "      <td>39072.087</td>\n",
       "      <td>-557.417</td>\n",
       "    </tr>\n",
       "    <tr>\n",
       "      <th>1687</th>\n",
       "      <td>3309.793</td>\n",
       "      <td>7572.321</td>\n",
       "      <td>-4262.528</td>\n",
       "    </tr>\n",
       "    <tr>\n",
       "      <th>1067</th>\n",
       "      <td>8428.069</td>\n",
       "      <td>10356.650</td>\n",
       "      <td>-1928.581</td>\n",
       "    </tr>\n",
       "    <tr>\n",
       "      <th>1495</th>\n",
       "      <td>3532.914</td>\n",
       "      <td>4299.841</td>\n",
       "      <td>-766.927</td>\n",
       "    </tr>\n",
       "    <tr>\n",
       "      <th>1855</th>\n",
       "      <td>17776.639</td>\n",
       "      <td>18573.025</td>\n",
       "      <td>-796.386</td>\n",
       "    </tr>\n",
       "    <tr>\n",
       "      <th>2222</th>\n",
       "      <td>44397.389</td>\n",
       "      <td>47866.087</td>\n",
       "      <td>-3468.698</td>\n",
       "    </tr>\n",
       "    <tr>\n",
       "      <th>827</th>\n",
       "      <td>5884.603</td>\n",
       "      <td>8847.025</td>\n",
       "      <td>-2962.422</td>\n",
       "    </tr>\n",
       "    <tr>\n",
       "      <th>35</th>\n",
       "      <td>47462.894</td>\n",
       "      <td>52589.087</td>\n",
       "      <td>-5126.193</td>\n",
       "    </tr>\n",
       "    <tr>\n",
       "      <th>1315</th>\n",
       "      <td>10649.470</td>\n",
       "      <td>11223.400</td>\n",
       "      <td>-573.930</td>\n",
       "    </tr>\n",
       "    <tr>\n",
       "      <th>524</th>\n",
       "      <td>8623.313</td>\n",
       "      <td>9003.087</td>\n",
       "      <td>-379.775</td>\n",
       "    </tr>\n",
       "  </tbody>\n",
       "</table>\n",
       "</div>"
      ],
      "text/plain": [
       "        Actual      Pred  Residual\n",
       "1531 18191.734 13191.753  4999.980\n",
       "2313  3535.178  4486.088  -950.910\n",
       "953   2457.211  4467.069 -2009.858\n",
       "2151 11475.544 14043.212 -2567.669\n",
       "1954  2203.472  4681.359 -2477.887\n",
       "1952  2904.088  3233.712  -329.624\n",
       "1485 14310.497 14932.358  -621.861\n",
       "190   9091.857  9983.087  -891.230\n",
       "1009 18767.738 14879.087  3888.650\n",
       "201   4022.565  6661.650 -2639.085\n",
       "1384 38514.670 39072.087  -557.417\n",
       "1687  3309.793  7572.321 -4262.528\n",
       "1067  8428.069 10356.650 -1928.581\n",
       "1495  3532.914  4299.841  -766.927\n",
       "1855 17776.639 18573.025  -796.386\n",
       "2222 44397.389 47866.087 -3468.698\n",
       "827   5884.603  8847.025 -2962.422\n",
       "35   47462.894 52589.087 -5126.193\n",
       "1315 10649.470 11223.400  -573.930\n",
       "524   8623.313  9003.087  -379.775"
      ]
     },
     "execution_count": 142,
     "metadata": {},
     "output_type": "execute_result"
    }
   ],
   "source": [
    "comp_sample = compare.sample(20)\n",
    "comp_sample"
   ]
  },
  {
   "cell_type": "code",
   "execution_count": 143,
   "id": "e61985bd",
   "metadata": {},
   "outputs": [
    {
     "data": {
      "image/png": "[encoded data removed]",
      "text/plain": [
       "<Figure size 1080x648 with 1 Axes>"
      ]
     },
     "metadata": {},
     "output_type": "display_data"
    }
   ],
   "source": [
    "comp_sample.plot(kind='bar',figsize=(15,9))\n",
    "plt.show()"
   ]
  },
  {
   "cell_type": "markdown",
   "id": "17e4a028",
   "metadata": {},
   "source": [
    "# Ridge"
   ]
  },
  {
   "cell_type": "code",
   "execution_count": 144,
   "id": "083f00a5",
   "metadata": {},
   "outputs": [],
   "source": [
    "from sklearn.linear_model import Ridge, RidgeCV"
   ]
  },
  {
   "cell_type": "code",
   "execution_count": 145,
   "id": "831fa8d9",
   "metadata": {},
   "outputs": [],
   "source": [
    "ridge_model = Ridge(random_state=101)"
   ]
  },
  {
   "cell_type": "code",
   "execution_count": 146,
   "id": "7f7686fa",
   "metadata": {},
   "outputs": [
    {
     "data": {
      "text/plain": [
       "Ridge(random_state=101)"
      ]
     },
     "execution_count": 146,
     "metadata": {},
     "output_type": "execute_result"
    }
   ],
   "source": [
    "ridge_model.fit(X_train, y_train)"
   ]
  },
  {
   "cell_type": "code",
   "execution_count": 147,
   "id": "1b170d2e",
   "metadata": {},
   "outputs": [
    {
     "data": {
      "text/html": [
       "<div>\n",
       "<style scoped>\n",
       "    .dataframe tbody tr th:only-of-type {\n",
       "        vertical-align: middle;\n",
       "    }\n",
       "\n",
       "    .dataframe tbody tr th {\n",
       "        vertical-align: top;\n",
       "    }\n",
       "\n",
       "    .dataframe thead th {\n",
       "        text-align: right;\n",
       "    }\n",
       "</style>\n",
       "<table border=\"1\" class=\"dataframe\">\n",
       "  <thead>\n",
       "    <tr style=\"text-align: right;\">\n",
       "      <th></th>\n",
       "      <th>train</th>\n",
       "      <th>test</th>\n",
       "    </tr>\n",
       "  </thead>\n",
       "  <tbody>\n",
       "    <tr>\n",
       "      <th>R2</th>\n",
       "      <td>0.811</td>\n",
       "      <td>0.820</td>\n",
       "    </tr>\n",
       "    <tr>\n",
       "      <th>mae</th>\n",
       "      <td>2707.196</td>\n",
       "      <td>2700.666</td>\n",
       "    </tr>\n",
       "    <tr>\n",
       "      <th>mse</th>\n",
       "      <td>20861573.138</td>\n",
       "      <td>19911614.786</td>\n",
       "    </tr>\n",
       "    <tr>\n",
       "      <th>rmse</th>\n",
       "      <td>4567.447</td>\n",
       "      <td>4462.243</td>\n",
       "    </tr>\n",
       "  </tbody>\n",
       "</table>\n",
       "</div>"
      ],
      "text/plain": [
       "            train         test\n",
       "R2          0.811        0.820\n",
       "mae      2707.196     2700.666\n",
       "mse  20861573.138 19911614.786\n",
       "rmse     4567.447     4462.243"
      ]
     },
     "execution_count": 147,
     "metadata": {},
     "output_type": "execute_result"
    }
   ],
   "source": [
    "train_val(ridge_model, X_train, y_train, X_test, y_test)"
   ]
  },
  {
   "cell_type": "code",
   "execution_count": 148,
   "id": "7dd16bbf",
   "metadata": {},
   "outputs": [],
   "source": [
    "from sklearn.model_selection import GridSearchCV"
   ]
  },
  {
   "cell_type": "code",
   "execution_count": 149,
   "id": "29166bc6",
   "metadata": {},
   "outputs": [
    {
     "data": {
      "text/plain": [
       "array([1.000e-02, 1.020e+00, 2.030e+00, 3.040e+00, 4.050e+00, 5.060e+00,\n",
       "       6.070e+00, 7.080e+00, 8.090e+00, 9.100e+00, 1.011e+01, 1.112e+01,\n",
       "       1.213e+01, 1.314e+01, 1.415e+01, 1.516e+01, 1.617e+01, 1.718e+01,\n",
       "       1.819e+01, 1.920e+01, 2.021e+01, 2.122e+01, 2.223e+01, 2.324e+01,\n",
       "       2.425e+01, 2.526e+01, 2.627e+01, 2.728e+01, 2.829e+01, 2.930e+01,\n",
       "       3.031e+01, 3.132e+01, 3.233e+01, 3.334e+01, 3.435e+01, 3.536e+01,\n",
       "       3.637e+01, 3.738e+01, 3.839e+01, 3.940e+01, 4.041e+01, 4.142e+01,\n",
       "       4.243e+01, 4.344e+01, 4.445e+01, 4.546e+01, 4.647e+01, 4.748e+01,\n",
       "       4.849e+01, 4.950e+01, 5.051e+01, 5.152e+01, 5.253e+01, 5.354e+01,\n",
       "       5.455e+01, 5.556e+01, 5.657e+01, 5.758e+01, 5.859e+01, 5.960e+01,\n",
       "       6.061e+01, 6.162e+01, 6.263e+01, 6.364e+01, 6.465e+01, 6.566e+01,\n",
       "       6.667e+01, 6.768e+01, 6.869e+01, 6.970e+01, 7.071e+01, 7.172e+01,\n",
       "       7.273e+01, 7.374e+01, 7.475e+01, 7.576e+01, 7.677e+01, 7.778e+01,\n",
       "       7.879e+01, 7.980e+01, 8.081e+01, 8.182e+01, 8.283e+01, 8.384e+01,\n",
       "       8.485e+01, 8.586e+01, 8.687e+01, 8.788e+01, 8.889e+01, 8.990e+01,\n",
       "       9.091e+01, 9.192e+01, 9.293e+01, 9.394e+01, 9.495e+01, 9.596e+01,\n",
       "       9.697e+01, 9.798e+01, 9.899e+01, 1.000e+02])"
      ]
     },
     "execution_count": 149,
     "metadata": {},
     "output_type": "execute_result"
    }
   ],
   "source": [
    "alpha_space = np.linspace(0.01, 100, 100)\n",
    "alpha_space"
   ]
  },
  {
   "cell_type": "code",
   "execution_count": 150,
   "id": "ae0689b2",
   "metadata": {},
   "outputs": [],
   "source": [
    "ridge_model = Ridge(random_state=101)\n",
    "\n",
    "param_grid = {'alpha':alpha_space}\n",
    "\n",
    "ridge_grid_model = GridSearchCV(estimator=ridge_model,\n",
    "                          param_grid=param_grid,\n",
    "                          scoring='neg_root_mean_squared_error',\n",
    "                          cv=10,\n",
    "                          n_jobs = -1)"
   ]
  },
  {
   "cell_type": "code",
   "execution_count": 151,
   "id": "cf6b942f",
   "metadata": {},
   "outputs": [
    {
     "data": {
      "text/plain": [
       "GridSearchCV(cv=10, estimator=Ridge(random_state=101), n_jobs=-1,\n",
       "             param_grid={'alpha': array([1.000e-02, 1.020e+00, 2.030e+00, 3.040e+00, 4.050e+00, 5.060e+00,\n",
       "       6.070e+00, 7.080e+00, 8.090e+00, 9.100e+00, 1.011e+01, 1.112e+01,\n",
       "       1.213e+01, 1.314e+01, 1.415e+01, 1.516e+01, 1.617e+01, 1.718e+01,\n",
       "       1.819e+01, 1.920e+01, 2.021e+01, 2.122e+01, 2.223e+01, 2.324e+01,\n",
       "       2.425e+01, 2.526e+01,...\n",
       "       6.667e+01, 6.768e+01, 6.869e+01, 6.970e+01, 7.071e+01, 7.172e+01,\n",
       "       7.273e+01, 7.374e+01, 7.475e+01, 7.576e+01, 7.677e+01, 7.778e+01,\n",
       "       7.879e+01, 7.980e+01, 8.081e+01, 8.182e+01, 8.283e+01, 8.384e+01,\n",
       "       8.485e+01, 8.586e+01, 8.687e+01, 8.788e+01, 8.889e+01, 8.990e+01,\n",
       "       9.091e+01, 9.192e+01, 9.293e+01, 9.394e+01, 9.495e+01, 9.596e+01,\n",
       "       9.697e+01, 9.798e+01, 9.899e+01, 1.000e+02])},\n",
       "             scoring='neg_root_mean_squared_error')"
      ]
     },
     "execution_count": 151,
     "metadata": {},
     "output_type": "execute_result"
    }
   ],
   "source": [
    "ridge_grid_model.fit(X_train,y_train)"
   ]
  },
  {
   "cell_type": "code",
   "execution_count": 152,
   "id": "f8877c7f",
   "metadata": {},
   "outputs": [
    {
     "data": {
      "text/html": [
       "<div>\n",
       "<style scoped>\n",
       "    .dataframe tbody tr th:only-of-type {\n",
       "        vertical-align: middle;\n",
       "    }\n",
       "\n",
       "    .dataframe tbody tr th {\n",
       "        vertical-align: top;\n",
       "    }\n",
       "\n",
       "    .dataframe thead th {\n",
       "        text-align: right;\n",
       "    }\n",
       "</style>\n",
       "<table border=\"1\" class=\"dataframe\">\n",
       "  <thead>\n",
       "    <tr style=\"text-align: right;\">\n",
       "      <th></th>\n",
       "      <th>train</th>\n",
       "      <th>test</th>\n",
       "    </tr>\n",
       "  </thead>\n",
       "  <tbody>\n",
       "    <tr>\n",
       "      <th>R2</th>\n",
       "      <td>0.816</td>\n",
       "      <td>0.825</td>\n",
       "    </tr>\n",
       "    <tr>\n",
       "      <th>mae</th>\n",
       "      <td>2653.755</td>\n",
       "      <td>2666.280</td>\n",
       "    </tr>\n",
       "    <tr>\n",
       "      <th>mse</th>\n",
       "      <td>20295242.420</td>\n",
       "      <td>19364198.898</td>\n",
       "    </tr>\n",
       "    <tr>\n",
       "      <th>rmse</th>\n",
       "      <td>4505.024</td>\n",
       "      <td>4400.477</td>\n",
       "    </tr>\n",
       "  </tbody>\n",
       "</table>\n",
       "</div>"
      ],
      "text/plain": [
       "            train         test\n",
       "R2          0.816        0.825\n",
       "mae      2653.755     2666.280\n",
       "mse  20295242.420 19364198.898\n",
       "rmse     4505.024     4400.477"
      ]
     },
     "execution_count": 152,
     "metadata": {},
     "output_type": "execute_result"
    }
   ],
   "source": [
    "train_val(ridge_grid_model, X_train, y_train, X_test, y_test)"
   ]
  },
  {
   "cell_type": "markdown",
   "id": "0700f17b",
   "metadata": {},
   "source": [
    "# LAsso"
   ]
  },
  {
   "cell_type": "code",
   "execution_count": 153,
   "id": "3ee113a9",
   "metadata": {},
   "outputs": [],
   "source": [
    "from sklearn.linear_model import Lasso, LassoCV"
   ]
  },
  {
   "cell_type": "code",
   "execution_count": 154,
   "id": "8c8fc60c",
   "metadata": {},
   "outputs": [
    {
     "data": {
      "text/plain": [
       "Lasso(random_state=101)"
      ]
     },
     "execution_count": 154,
     "metadata": {},
     "output_type": "execute_result"
    }
   ],
   "source": [
    "lasso_model = Lasso(random_state=101)\n",
    "lasso_model.fit(X_train, y_train)"
   ]
  },
  {
   "cell_type": "code",
   "execution_count": 155,
   "id": "55f5f67d",
   "metadata": {
    "scrolled": true
   },
   "outputs": [
    {
     "data": {
      "text/html": [
       "<div>\n",
       "<style scoped>\n",
       "    .dataframe tbody tr th:only-of-type {\n",
       "        vertical-align: middle;\n",
       "    }\n",
       "\n",
       "    .dataframe tbody tr th {\n",
       "        vertical-align: top;\n",
       "    }\n",
       "\n",
       "    .dataframe thead th {\n",
       "        text-align: right;\n",
       "    }\n",
       "</style>\n",
       "<table border=\"1\" class=\"dataframe\">\n",
       "  <thead>\n",
       "    <tr style=\"text-align: right;\">\n",
       "      <th></th>\n",
       "      <th>train</th>\n",
       "      <th>test</th>\n",
       "    </tr>\n",
       "  </thead>\n",
       "  <tbody>\n",
       "    <tr>\n",
       "      <th>R2</th>\n",
       "      <td>0.816</td>\n",
       "      <td>0.825</td>\n",
       "    </tr>\n",
       "    <tr>\n",
       "      <th>mae</th>\n",
       "      <td>2649.534</td>\n",
       "      <td>2664.528</td>\n",
       "    </tr>\n",
       "    <tr>\n",
       "      <th>mse</th>\n",
       "      <td>20310701.015</td>\n",
       "      <td>19385011.489</td>\n",
       "    </tr>\n",
       "    <tr>\n",
       "      <th>rmse</th>\n",
       "      <td>4506.740</td>\n",
       "      <td>4402.841</td>\n",
       "    </tr>\n",
       "  </tbody>\n",
       "</table>\n",
       "</div>"
      ],
      "text/plain": [
       "            train         test\n",
       "R2          0.816        0.825\n",
       "mae      2649.534     2664.528\n",
       "mse  20310701.015 19385011.489\n",
       "rmse     4506.740     4402.841"
      ]
     },
     "execution_count": 155,
     "metadata": {},
     "output_type": "execute_result"
    }
   ],
   "source": [
    "train_val(lasso_model, X_train, y_train, X_test, y_test)"
   ]
  },
  {
   "cell_type": "code",
   "execution_count": 156,
   "id": "fced52e1",
   "metadata": {},
   "outputs": [],
   "source": [
    "lasso_model = Lasso(random_state=101)\n",
    "\n",
    "param_grid = {'alpha':alpha_space}\n",
    "\n",
    "lasso_grid_model = GridSearchCV(estimator=lasso_model,\n",
    "                          param_grid=param_grid,\n",
    "                          scoring='neg_root_mean_squared_error',\n",
    "                          cv=10,\n",
    "                          n_jobs = -1)"
   ]
  },
  {
   "cell_type": "code",
   "execution_count": 157,
   "id": "0dbc7f27",
   "metadata": {},
   "outputs": [
    {
     "data": {
      "text/plain": [
       "GridSearchCV(cv=10, estimator=Lasso(random_state=101), n_jobs=-1,\n",
       "             param_grid={'alpha': array([1.000e-02, 1.020e+00, 2.030e+00, 3.040e+00, 4.050e+00, 5.060e+00,\n",
       "       6.070e+00, 7.080e+00, 8.090e+00, 9.100e+00, 1.011e+01, 1.112e+01,\n",
       "       1.213e+01, 1.314e+01, 1.415e+01, 1.516e+01, 1.617e+01, 1.718e+01,\n",
       "       1.819e+01, 1.920e+01, 2.021e+01, 2.122e+01, 2.223e+01, 2.324e+01,\n",
       "       2.425e+01, 2.526e+01,...\n",
       "       6.667e+01, 6.768e+01, 6.869e+01, 6.970e+01, 7.071e+01, 7.172e+01,\n",
       "       7.273e+01, 7.374e+01, 7.475e+01, 7.576e+01, 7.677e+01, 7.778e+01,\n",
       "       7.879e+01, 7.980e+01, 8.081e+01, 8.182e+01, 8.283e+01, 8.384e+01,\n",
       "       8.485e+01, 8.586e+01, 8.687e+01, 8.788e+01, 8.889e+01, 8.990e+01,\n",
       "       9.091e+01, 9.192e+01, 9.293e+01, 9.394e+01, 9.495e+01, 9.596e+01,\n",
       "       9.697e+01, 9.798e+01, 9.899e+01, 1.000e+02])},\n",
       "             scoring='neg_root_mean_squared_error')"
      ]
     },
     "execution_count": 157,
     "metadata": {},
     "output_type": "execute_result"
    }
   ],
   "source": [
    "lasso_grid_model.fit(X_train,y_train)"
   ]
  },
  {
   "cell_type": "code",
   "execution_count": 158,
   "id": "3d8f5278",
   "metadata": {},
   "outputs": [
    {
     "data": {
      "text/html": [
       "<div>\n",
       "<style scoped>\n",
       "    .dataframe tbody tr th:only-of-type {\n",
       "        vertical-align: middle;\n",
       "    }\n",
       "\n",
       "    .dataframe tbody tr th {\n",
       "        vertical-align: top;\n",
       "    }\n",
       "\n",
       "    .dataframe thead th {\n",
       "        text-align: right;\n",
       "    }\n",
       "</style>\n",
       "<table border=\"1\" class=\"dataframe\">\n",
       "  <thead>\n",
       "    <tr style=\"text-align: right;\">\n",
       "      <th></th>\n",
       "      <th>train</th>\n",
       "      <th>test</th>\n",
       "    </tr>\n",
       "  </thead>\n",
       "  <tbody>\n",
       "    <tr>\n",
       "      <th>R2</th>\n",
       "      <td>0.816</td>\n",
       "      <td>0.825</td>\n",
       "    </tr>\n",
       "    <tr>\n",
       "      <th>mae</th>\n",
       "      <td>2649.418</td>\n",
       "      <td>2664.444</td>\n",
       "    </tr>\n",
       "    <tr>\n",
       "      <th>mse</th>\n",
       "      <td>20311284.711</td>\n",
       "      <td>19385413.400</td>\n",
       "    </tr>\n",
       "    <tr>\n",
       "      <th>rmse</th>\n",
       "      <td>4506.804</td>\n",
       "      <td>4402.887</td>\n",
       "    </tr>\n",
       "  </tbody>\n",
       "</table>\n",
       "</div>"
      ],
      "text/plain": [
       "            train         test\n",
       "R2          0.816        0.825\n",
       "mae      2649.418     2664.444\n",
       "mse  20311284.711 19385413.400\n",
       "rmse     4506.804     4402.887"
      ]
     },
     "execution_count": 158,
     "metadata": {},
     "output_type": "execute_result"
    }
   ],
   "source": [
    "train_val(lasso_grid_model, X_train, y_train, X_test, y_test)"
   ]
  },
  {
   "cell_type": "markdown",
   "id": "fb518ffe",
   "metadata": {},
   "source": [
    "# elastic"
   ]
  },
  {
   "cell_type": "code",
   "execution_count": 159,
   "id": "6adbd17e",
   "metadata": {},
   "outputs": [],
   "source": [
    "from sklearn.linear_model import ElasticNet"
   ]
  },
  {
   "cell_type": "code",
   "execution_count": 160,
   "id": "9c46e068",
   "metadata": {},
   "outputs": [
    {
     "data": {
      "text/plain": [
       "ElasticNet(random_state=101)"
      ]
     },
     "execution_count": 160,
     "metadata": {},
     "output_type": "execute_result"
    }
   ],
   "source": [
    "elastic_model = ElasticNet(random_state=101)\n",
    "elastic_model.fit(X_train,y_train)"
   ]
  },
  {
   "cell_type": "code",
   "execution_count": 161,
   "id": "614ccedc",
   "metadata": {},
   "outputs": [
    {
     "data": {
      "text/html": [
       "<div>\n",
       "<style scoped>\n",
       "    .dataframe tbody tr th:only-of-type {\n",
       "        vertical-align: middle;\n",
       "    }\n",
       "\n",
       "    .dataframe tbody tr th {\n",
       "        vertical-align: top;\n",
       "    }\n",
       "\n",
       "    .dataframe thead th {\n",
       "        text-align: right;\n",
       "    }\n",
       "</style>\n",
       "<table border=\"1\" class=\"dataframe\">\n",
       "  <thead>\n",
       "    <tr style=\"text-align: right;\">\n",
       "      <th></th>\n",
       "      <th>train</th>\n",
       "      <th>test</th>\n",
       "    </tr>\n",
       "  </thead>\n",
       "  <tbody>\n",
       "    <tr>\n",
       "      <th>R2</th>\n",
       "      <td>0.506</td>\n",
       "      <td>0.523</td>\n",
       "    </tr>\n",
       "    <tr>\n",
       "      <th>mae</th>\n",
       "      <td>5241.927</td>\n",
       "      <td>5258.593</td>\n",
       "    </tr>\n",
       "    <tr>\n",
       "      <th>mse</th>\n",
       "      <td>54485853.878</td>\n",
       "      <td>52771219.814</td>\n",
       "    </tr>\n",
       "    <tr>\n",
       "      <th>rmse</th>\n",
       "      <td>7381.453</td>\n",
       "      <td>7264.380</td>\n",
       "    </tr>\n",
       "  </tbody>\n",
       "</table>\n",
       "</div>"
      ],
      "text/plain": [
       "            train         test\n",
       "R2          0.506        0.523\n",
       "mae      5241.927     5258.593\n",
       "mse  54485853.878 52771219.814\n",
       "rmse     7381.453     7264.380"
      ]
     },
     "execution_count": 161,
     "metadata": {},
     "output_type": "execute_result"
    }
   ],
   "source": [
    "train_val(elastic_model, X_train, y_train, X_test, y_test)"
   ]
  },
  {
   "cell_type": "code",
   "execution_count": 162,
   "id": "8c839eb6",
   "metadata": {},
   "outputs": [],
   "source": [
    "elastic_model = ElasticNet(random_state=101)"
   ]
  },
  {
   "cell_type": "code",
   "execution_count": 163,
   "id": "e543a0ef",
   "metadata": {},
   "outputs": [],
   "source": [
    "param_grid = {'alpha':[1.02, 2,  3, 4, 5, 7, 10, 11],\n",
    "              'l1_ratio':[.5, .7, .9, .95, .99, 1]}\n",
    "\n",
    "elastic_grid_model = GridSearchCV(estimator=elastic_model,\n",
    "                          param_grid=param_grid,\n",
    "                          scoring='neg_root_mean_squared_error',\n",
    "                          cv=10,\n",
    "                          n_jobs = -1)"
   ]
  },
  {
   "cell_type": "code",
   "execution_count": 164,
   "id": "d485a5bb",
   "metadata": {},
   "outputs": [
    {
     "data": {
      "text/plain": [
       "GridSearchCV(cv=10, estimator=ElasticNet(random_state=101), n_jobs=-1,\n",
       "             param_grid={'alpha': [1.02, 2, 3, 4, 5, 7, 10, 11],\n",
       "                         'l1_ratio': [0.5, 0.7, 0.9, 0.95, 0.99, 1]},\n",
       "             scoring='neg_root_mean_squared_error')"
      ]
     },
     "execution_count": 164,
     "metadata": {},
     "output_type": "execute_result"
    }
   ],
   "source": [
    "elastic_grid_model.fit(X_train,y_train)"
   ]
  },
  {
   "cell_type": "code",
   "execution_count": 167,
   "id": "f521d66b",
   "metadata": {},
   "outputs": [
    {
     "data": {
      "text/html": [
       "<div>\n",
       "<style scoped>\n",
       "    .dataframe tbody tr th:only-of-type {\n",
       "        vertical-align: middle;\n",
       "    }\n",
       "\n",
       "    .dataframe tbody tr th {\n",
       "        vertical-align: top;\n",
       "    }\n",
       "\n",
       "    .dataframe thead th {\n",
       "        text-align: right;\n",
       "    }\n",
       "</style>\n",
       "<table border=\"1\" class=\"dataframe\">\n",
       "  <thead>\n",
       "    <tr style=\"text-align: right;\">\n",
       "      <th></th>\n",
       "      <th>train</th>\n",
       "      <th>test</th>\n",
       "    </tr>\n",
       "  </thead>\n",
       "  <tbody>\n",
       "    <tr>\n",
       "      <th>R2</th>\n",
       "      <td>0.816</td>\n",
       "      <td>0.825</td>\n",
       "    </tr>\n",
       "    <tr>\n",
       "      <th>mae</th>\n",
       "      <td>2649.418</td>\n",
       "      <td>2664.444</td>\n",
       "    </tr>\n",
       "    <tr>\n",
       "      <th>mse</th>\n",
       "      <td>20311284.711</td>\n",
       "      <td>19385413.400</td>\n",
       "    </tr>\n",
       "    <tr>\n",
       "      <th>rmse</th>\n",
       "      <td>4506.804</td>\n",
       "      <td>4402.887</td>\n",
       "    </tr>\n",
       "  </tbody>\n",
       "</table>\n",
       "</div>"
      ],
      "text/plain": [
       "            train         test\n",
       "R2          0.816        0.825\n",
       "mae      2649.418     2664.444\n",
       "mse  20311284.711 19385413.400\n",
       "rmse     4506.804     4402.887"
      ]
     },
     "execution_count": 167,
     "metadata": {},
     "output_type": "execute_result"
    }
   ],
   "source": [
    "train_val(elastic_grid_model, X_train, y_train, X_test, y_test)"
   ]
  },
  {
   "cell_type": "code",
   "execution_count": 168,
   "id": "d8e7419c",
   "metadata": {},
   "outputs": [
    {
     "data": {
      "text/plain": [
       "{'alpha': 1.02, 'l1_ratio': 1}"
      ]
     },
     "execution_count": 168,
     "metadata": {},
     "output_type": "execute_result"
    }
   ],
   "source": [
    "elastic_grid_model.best_params_"
   ]
  },
  {
   "cell_type": "code",
   "execution_count": 170,
   "id": "c402eb3c",
   "metadata": {},
   "outputs": [
    {
     "data": {
      "text/html": [
       "<div>\n",
       "<style scoped>\n",
       "    .dataframe tbody tr th:only-of-type {\n",
       "        vertical-align: middle;\n",
       "    }\n",
       "\n",
       "    .dataframe tbody tr th {\n",
       "        vertical-align: top;\n",
       "    }\n",
       "\n",
       "    .dataframe thead th {\n",
       "        text-align: right;\n",
       "    }\n",
       "</style>\n",
       "<table border=\"1\" class=\"dataframe\">\n",
       "  <thead>\n",
       "    <tr style=\"text-align: right;\">\n",
       "      <th></th>\n",
       "      <th>train</th>\n",
       "      <th>test</th>\n",
       "    </tr>\n",
       "  </thead>\n",
       "  <tbody>\n",
       "    <tr>\n",
       "      <th>R2</th>\n",
       "      <td>0.816</td>\n",
       "      <td>0.825</td>\n",
       "    </tr>\n",
       "    <tr>\n",
       "      <th>mae</th>\n",
       "      <td>2649.418</td>\n",
       "      <td>2664.444</td>\n",
       "    </tr>\n",
       "    <tr>\n",
       "      <th>mse</th>\n",
       "      <td>20311284.711</td>\n",
       "      <td>19385413.400</td>\n",
       "    </tr>\n",
       "    <tr>\n",
       "      <th>rmse</th>\n",
       "      <td>4506.804</td>\n",
       "      <td>4402.887</td>\n",
       "    </tr>\n",
       "  </tbody>\n",
       "</table>\n",
       "</div>"
      ],
      "text/plain": [
       "            train         test\n",
       "R2          0.816        0.825\n",
       "mae      2649.418     2664.444\n",
       "mse  20311284.711 19385413.400\n",
       "rmse     4506.804     4402.887"
      ]
     },
     "execution_count": 170,
     "metadata": {},
     "output_type": "execute_result"
    }
   ],
   "source": [
    "train_val(lasso_grid_model, X_train, y_train, X_test, y_test)"
   ]
  },
  {
   "cell_type": "code",
   "execution_count": 171,
   "id": "0a6c2bd2",
   "metadata": {},
   "outputs": [
    {
     "data": {
      "text/html": [
       "<div>\n",
       "<style scoped>\n",
       "    .dataframe tbody tr th:only-of-type {\n",
       "        vertical-align: middle;\n",
       "    }\n",
       "\n",
       "    .dataframe tbody tr th {\n",
       "        vertical-align: top;\n",
       "    }\n",
       "\n",
       "    .dataframe thead th {\n",
       "        text-align: right;\n",
       "    }\n",
       "</style>\n",
       "<table border=\"1\" class=\"dataframe\">\n",
       "  <thead>\n",
       "    <tr style=\"text-align: right;\">\n",
       "      <th></th>\n",
       "      <th>train</th>\n",
       "      <th>test</th>\n",
       "    </tr>\n",
       "  </thead>\n",
       "  <tbody>\n",
       "    <tr>\n",
       "      <th>R2</th>\n",
       "      <td>0.816</td>\n",
       "      <td>0.825</td>\n",
       "    </tr>\n",
       "    <tr>\n",
       "      <th>mae</th>\n",
       "      <td>2653.755</td>\n",
       "      <td>2666.280</td>\n",
       "    </tr>\n",
       "    <tr>\n",
       "      <th>mse</th>\n",
       "      <td>20295242.420</td>\n",
       "      <td>19364198.898</td>\n",
       "    </tr>\n",
       "    <tr>\n",
       "      <th>rmse</th>\n",
       "      <td>4505.024</td>\n",
       "      <td>4400.477</td>\n",
       "    </tr>\n",
       "  </tbody>\n",
       "</table>\n",
       "</div>"
      ],
      "text/plain": [
       "            train         test\n",
       "R2          0.816        0.825\n",
       "mae      2653.755     2666.280\n",
       "mse  20295242.420 19364198.898\n",
       "rmse     4505.024     4400.477"
      ]
     },
     "execution_count": 171,
     "metadata": {},
     "output_type": "execute_result"
    }
   ],
   "source": [
    "train_val(ridge_grid_model, X_train, y_train, X_test, y_test)"
   ]
  },
  {
   "cell_type": "code",
   "execution_count": 172,
   "id": "4193826a",
   "metadata": {},
   "outputs": [
    {
     "data": {
      "text/html": [
       "<div>\n",
       "<style scoped>\n",
       "    .dataframe tbody tr th:only-of-type {\n",
       "        vertical-align: middle;\n",
       "    }\n",
       "\n",
       "    .dataframe tbody tr th {\n",
       "        vertical-align: top;\n",
       "    }\n",
       "\n",
       "    .dataframe thead th {\n",
       "        text-align: right;\n",
       "    }\n",
       "</style>\n",
       "<table border=\"1\" class=\"dataframe\">\n",
       "  <thead>\n",
       "    <tr style=\"text-align: right;\">\n",
       "      <th></th>\n",
       "      <th>train</th>\n",
       "      <th>test</th>\n",
       "    </tr>\n",
       "  </thead>\n",
       "  <tbody>\n",
       "    <tr>\n",
       "      <th>R2</th>\n",
       "      <td>0.815</td>\n",
       "      <td>0.823</td>\n",
       "    </tr>\n",
       "    <tr>\n",
       "      <th>mae</th>\n",
       "      <td>2658.324</td>\n",
       "      <td>2673.186</td>\n",
       "    </tr>\n",
       "    <tr>\n",
       "      <th>mse</th>\n",
       "      <td>20374178.123</td>\n",
       "      <td>19526561.435</td>\n",
       "    </tr>\n",
       "    <tr>\n",
       "      <th>rmse</th>\n",
       "      <td>4513.776</td>\n",
       "      <td>4418.887</td>\n",
       "    </tr>\n",
       "  </tbody>\n",
       "</table>\n",
       "</div>"
      ],
      "text/plain": [
       "            train         test\n",
       "R2          0.815        0.823\n",
       "mae      2658.324     2673.186\n",
       "mse  20374178.123 19526561.435\n",
       "rmse     4513.776     4418.887"
      ]
     },
     "execution_count": 172,
     "metadata": {},
     "output_type": "execute_result"
    }
   ],
   "source": [
    "train_val(lm, X_train, y_train, X_test, y_test)"
   ]
  },
  {
   "cell_type": "markdown",
   "id": "29b50517",
   "metadata": {},
   "source": [
    "# Final Model"
   ]
  },
  {
   "cell_type": "code",
   "execution_count": 181,
   "id": "f128f396",
   "metadata": {},
   "outputs": [],
   "source": [
    "final_scaler = MinMaxScaler()\n",
    "X_scaled = final_scaler.fit_transform(poly_features)"
   ]
  },
  {
   "cell_type": "code",
   "execution_count": 182,
   "id": "7a7713cf",
   "metadata": {},
   "outputs": [],
   "source": [
    "ridge_model = Ridge(random_state=101)\n",
    "\n",
    "param_grid = {'alpha':alpha_space}\n",
    "\n",
    "final_model = GridSearchCV(estimator=ridge_model,\n",
    "                          param_grid=param_grid,\n",
    "                          scoring='neg_root_mean_squared_error',\n",
    "                          cv=10,\n",
    "                          n_jobs = -1)"
   ]
  },
  {
   "cell_type": "code",
   "execution_count": 183,
   "id": "4f3f004b",
   "metadata": {},
   "outputs": [
    {
     "data": {
      "text/plain": [
       "GridSearchCV(cv=10, estimator=Ridge(random_state=101), n_jobs=-1,\n",
       "             param_grid={'alpha': array([1.000e-02, 1.020e+00, 2.030e+00, 3.040e+00, 4.050e+00, 5.060e+00,\n",
       "       6.070e+00, 7.080e+00, 8.090e+00, 9.100e+00, 1.011e+01, 1.112e+01,\n",
       "       1.213e+01, 1.314e+01, 1.415e+01, 1.516e+01, 1.617e+01, 1.718e+01,\n",
       "       1.819e+01, 1.920e+01, 2.021e+01, 2.122e+01, 2.223e+01, 2.324e+01,\n",
       "       2.425e+01, 2.526e+01,...\n",
       "       6.667e+01, 6.768e+01, 6.869e+01, 6.970e+01, 7.071e+01, 7.172e+01,\n",
       "       7.273e+01, 7.374e+01, 7.475e+01, 7.576e+01, 7.677e+01, 7.778e+01,\n",
       "       7.879e+01, 7.980e+01, 8.081e+01, 8.182e+01, 8.283e+01, 8.384e+01,\n",
       "       8.485e+01, 8.586e+01, 8.687e+01, 8.788e+01, 8.889e+01, 8.990e+01,\n",
       "       9.091e+01, 9.192e+01, 9.293e+01, 9.394e+01, 9.495e+01, 9.596e+01,\n",
       "       9.697e+01, 9.798e+01, 9.899e+01, 1.000e+02])},\n",
       "             scoring='neg_root_mean_squared_error')"
      ]
     },
     "execution_count": 183,
     "metadata": {},
     "output_type": "execute_result"
    }
   ],
   "source": [
    "final_model.fit(X_scaled,y)"
   ]
  },
  {
   "cell_type": "code",
   "execution_count": 184,
   "id": "294898af",
   "metadata": {},
   "outputs": [
    {
     "data": {
      "text/html": [
       "<div>\n",
       "<style scoped>\n",
       "    .dataframe tbody tr th:only-of-type {\n",
       "        vertical-align: middle;\n",
       "    }\n",
       "\n",
       "    .dataframe tbody tr th {\n",
       "        vertical-align: top;\n",
       "    }\n",
       "\n",
       "    .dataframe thead th {\n",
       "        text-align: right;\n",
       "    }\n",
       "</style>\n",
       "<table border=\"1\" class=\"dataframe\">\n",
       "  <thead>\n",
       "    <tr style=\"text-align: right;\">\n",
       "      <th></th>\n",
       "      <th>age</th>\n",
       "      <th>bmi</th>\n",
       "      <th>children</th>\n",
       "      <th>sex_male</th>\n",
       "      <th>smoker_yes</th>\n",
       "      <th>region_northwest</th>\n",
       "      <th>region_southeast</th>\n",
       "      <th>region_southwest</th>\n",
       "    </tr>\n",
       "  </thead>\n",
       "  <tbody>\n",
       "    <tr>\n",
       "      <th>0</th>\n",
       "      <td>39.297</td>\n",
       "      <td>29.978</td>\n",
       "      <td>4</td>\n",
       "      <td>1</td>\n",
       "      <td>0</td>\n",
       "      <td>1</td>\n",
       "      <td>0</td>\n",
       "      <td>0</td>\n",
       "    </tr>\n",
       "    <tr>\n",
       "      <th>1</th>\n",
       "      <td>40.368</td>\n",
       "      <td>27.928</td>\n",
       "      <td>5</td>\n",
       "      <td>0</td>\n",
       "      <td>0</td>\n",
       "      <td>0</td>\n",
       "      <td>1</td>\n",
       "      <td>0</td>\n",
       "    </tr>\n",
       "    <tr>\n",
       "      <th>2</th>\n",
       "      <td>32.882</td>\n",
       "      <td>41.577</td>\n",
       "      <td>5</td>\n",
       "      <td>1</td>\n",
       "      <td>0</td>\n",
       "      <td>0</td>\n",
       "      <td>0</td>\n",
       "      <td>1</td>\n",
       "    </tr>\n",
       "    <tr>\n",
       "      <th>3</th>\n",
       "      <td>62.000</td>\n",
       "      <td>30.495</td>\n",
       "      <td>2</td>\n",
       "      <td>0</td>\n",
       "      <td>0</td>\n",
       "      <td>1</td>\n",
       "      <td>0</td>\n",
       "      <td>0</td>\n",
       "    </tr>\n",
       "    <tr>\n",
       "      <th>4</th>\n",
       "      <td>32.476</td>\n",
       "      <td>30.323</td>\n",
       "      <td>4</td>\n",
       "      <td>1</td>\n",
       "      <td>1</td>\n",
       "      <td>0</td>\n",
       "      <td>0</td>\n",
       "      <td>0</td>\n",
       "    </tr>\n",
       "  </tbody>\n",
       "</table>\n",
       "</div>"
      ],
      "text/plain": [
       "     age    bmi  children  sex_male  smoker_yes  region_northwest  \\\n",
       "0 39.297 29.978         4         1           0                 1   \n",
       "1 40.368 27.928         5         0           0                 0   \n",
       "2 32.882 41.577         5         1           0                 0   \n",
       "3 62.000 30.495         2         0           0                 1   \n",
       "4 32.476 30.323         4         1           1                 0   \n",
       "\n",
       "   region_southeast  region_southwest  \n",
       "0                 0                 0  \n",
       "1                 1                 0  \n",
       "2                 0                 1  \n",
       "3                 0                 0  \n",
       "4                 0                 0  "
      ]
     },
     "execution_count": 184,
     "metadata": {},
     "output_type": "execute_result"
    }
   ],
   "source": [
    "testdummy.head()"
   ]
  },
  {
   "cell_type": "code",
   "execution_count": 185,
   "id": "9c9b30b3",
   "metadata": {},
   "outputs": [],
   "source": [
    "polynomial_converter = PolynomialFeatures(degree=2, include_bias=False)\n",
    "\n",
    "poly_test = polynomial_converter.fit_transform(testdummy)"
   ]
  },
  {
   "cell_type": "code",
   "execution_count": 186,
   "id": "119cc17c",
   "metadata": {},
   "outputs": [
    {
     "data": {
      "text/plain": [
       "array([[0.46296861, 0.48657096, 0.8       , ..., 0.        , 0.        ,\n",
       "        0.        ],\n",
       "       [0.4862513 , 0.41539982, 1.        , ..., 1.        , 0.        ,\n",
       "        0.        ],\n",
       "       [0.32351225, 0.88916574, 1.        , ..., 0.        , 0.        ,\n",
       "        1.        ],\n",
       "       ...,\n",
       "       [0.70371196, 0.3750884 , 0.8       , ..., 0.        , 0.        ,\n",
       "        0.        ],\n",
       "       [0.67829734, 0.53581535, 0.8       , ..., 0.        , 0.        ,\n",
       "        0.        ],\n",
       "       [0.67391304, 0.51856994, 0.        , ..., 0.        , 0.        ,\n",
       "        1.        ]])"
      ]
     },
     "execution_count": 186,
     "metadata": {},
     "output_type": "execute_result"
    }
   ],
   "source": [
    "poly_test = final_scaler.transform(poly_test)\n",
    "poly_test"
   ]
  },
  {
   "cell_type": "code",
   "execution_count": 188,
   "id": "9243b6e4",
   "metadata": {},
   "outputs": [],
   "source": [
    "final_pred=final_model.predict(poly_test)"
   ]
  },
  {
   "cell_type": "code",
   "execution_count": 189,
   "id": "95d641b0",
   "metadata": {},
   "outputs": [
    {
     "data": {
      "text/plain": [
       "array([10466.94788283,  8725.58597988,  6109.98305108, 16270.83867054,\n",
       "       30211.90528473, 14690.78061409, 11921.21392283,  9935.43094876,\n",
       "        9673.72735552,  1723.24840052,  9911.90674849,  3998.43895414,\n",
       "       12697.02253584, 11698.59513462, 12993.37828652, 14708.33477268,\n",
       "        8060.47300652,  4670.46996848,  2917.34070292, 35823.62874616,\n",
       "        6240.34515219, 12011.66206087, 24290.24758419, 31675.40834356,\n",
       "        7028.32326423,  7183.26307315, 10525.24826979,  2766.67837388,\n",
       "        4470.84627757, 27457.34587604,  6210.64151368,  4888.10791795,\n",
       "        5091.52929154, 10915.31359867, 35816.50276926,  6589.89198012,\n",
       "       12295.86222513, 10441.13063348, 10917.42166461, 49213.92914671,\n",
       "       16185.48445965, 12747.12858531, 24240.42630871, 49752.28831064,\n",
       "        6581.32342569,  9671.98846185, 15244.29806393, 10022.09108788,\n",
       "       15458.54720802, 11085.15531592, 12537.63503137,  3342.88375599,\n",
       "       12524.34796659, 11639.34061222, 10376.25845553, 35212.63547993,\n",
       "       11310.36776757, 11541.48638835,  5711.56845338, 12005.36898805,\n",
       "        7026.8774148 , 42014.34133243, 40899.56439759, 38466.78203548,\n",
       "       10897.92766158, 10014.47536149, 12424.76578528,  4826.68223456,\n",
       "        5531.95764907, 34874.74460472, 11805.51657652, 15215.40782869,\n",
       "        2336.78407834, 13276.08151006, 10576.25524804, 10618.62054221,\n",
       "       27394.11339305, 15509.0973968 , 35389.66319131, 10758.53567951,\n",
       "        6414.98982711, 53074.92144265, 45771.55306821,  3312.20577461,\n",
       "        5488.9329139 , 24245.91746523, 15382.15417025,  7289.61276024,\n",
       "        8963.18363527, 12446.6582117 , 12613.99685219, 13889.04947636,\n",
       "       10906.67516917, 11644.13532801,  5038.4851788 ,  4627.6430676 ,\n",
       "        8056.6302742 ,  6638.77459439,  4307.57491002, 11194.00219612,\n",
       "       11684.5135854 ,  3332.94294486,  7785.02816956,  8750.33847032,\n",
       "       37925.69547737, 14170.99917897,  7840.18314952,  3468.82300279,\n",
       "       21371.62835294, 19101.13095717, 10916.09380841, 18337.80148721,\n",
       "       10849.19442501,  4662.14437427,  8296.51528481,  7064.78342996,\n",
       "        7076.53232159,  8775.92144999, 54589.85473787, 13250.11695571,\n",
       "       10369.60942416, 10916.30818894, 13317.40948556, 27335.20245154,\n",
       "        5749.43245215,  8015.88170228, 10909.7996549 , 11505.39339412,\n",
       "       13398.39176207,  8452.40875331,  9988.20904902, 11701.489627  ,\n",
       "        7185.59637134,  6880.8628625 ,  9398.38340388,  6697.99313937,\n",
       "       46690.5956259 ,  7137.24917663,  6465.69241916, 12506.02252297,\n",
       "       18704.46337682, 10093.18471869, 12021.2215643 ,  6702.07629115,\n",
       "       38205.40848049, 14469.37001064,  6729.7476174 , 27073.681111  ,\n",
       "        8619.38904415, 29438.0958396 , 10576.03206184,  4086.00606826,\n",
       "       11053.63291083,  6723.04228934, 41350.38778881, 34836.49546701,\n",
       "       13961.35259264,  8687.60433544,  4134.33522675,  6657.68574125,\n",
       "       46430.89272765, 10568.25105183, 10695.16464287, 10855.49461357,\n",
       "       11693.43204813,  2667.35976176,  3031.64794   ,  8106.82696618,\n",
       "        8987.76676343, 10561.45083244, 14020.6134478 , 18467.04073891,\n",
       "       11242.73975414, 12455.66557855, 15236.02485318,  6098.8732394 ,\n",
       "       49669.73884644,  5925.80904866,  2388.08275581,  6672.80978781,\n",
       "       10636.37226123,  6626.29027479, 10572.13522561,  6684.65454773,\n",
       "        8620.41617849,  6406.43322211, 14958.71251216, 13839.74774958,\n",
       "        2218.62972127,  7002.61794915, 13119.15728623,  6689.80596632,\n",
       "        4196.94714172,  9633.65657607, 12019.25085447, 15052.89111504,\n",
       "       13617.996499  ,  3505.57665049,  5512.92151237,  5891.80226419,\n",
       "       10710.35905888,  7406.01735661,  5189.82880861, 36801.22413896,\n",
       "       12968.5671931 , 14416.89098802, 26626.04384723,  6434.94190121,\n",
       "        6658.48801991,  4481.08595676, 14017.84193152, 12077.35190753,\n",
       "       15033.60957822, 11741.53628312,  9109.06590888, 15077.12043787,\n",
       "        7010.58700248,  7385.60418926,  5041.72587045,  5918.89491955,\n",
       "       12006.32357567,  5754.52548181,  6722.63733584, 15611.40848768,\n",
       "       56052.20853851, 31637.78722141,  8131.89172819,  6314.34061984,\n",
       "       30655.77995766, 11545.46542016, 12528.66419422,  6226.9732529 ,\n",
       "        8304.06686021, 29699.28223372,  5365.89365545,  2823.04192278,\n",
       "       11278.7897378 ,  4337.31208442, 27768.06069698,  9577.11461703,\n",
       "        4573.91026958, 10945.38781806,  6838.74072522, 11541.22122872,\n",
       "       44440.57555086, 42296.29672554,  8160.96194234,  9033.85014943,\n",
       "        8926.30051061,  8576.26438423,  8739.96140715,  3945.71029655,\n",
       "        9557.46936223,  4242.8081349 , 12098.07273073, 10833.08458919,\n",
       "        7515.27304385, 23368.44995807,  9008.43337979, 38215.55129449,\n",
       "       15900.45802483, 13334.23089366, 12425.46459717, 12751.73709423,\n",
       "        6121.92565635, 11731.02886278, 32656.78206081,  8225.94757642,\n",
       "       49974.47221102, 10940.63923732, 16662.4224412 , 10911.60002069,\n",
       "       10628.84230043,  5204.12696226,  4979.29630074, 16618.68644168,\n",
       "       10290.74209395, 15046.13085456,  6390.97119254, 12249.40630376,\n",
       "        5817.09200129, 10216.81954203, 10765.09636771,  8229.0413957 ,\n",
       "       16237.63648495,  9949.32755403,  5504.20167876, 11067.41401887,\n",
       "       15025.80799272, 29112.94523678,  5750.5531503 , 10996.38645794,\n",
       "       13909.39231949, 10848.08066152, 11989.56175815,  6749.28238433,\n",
       "       12529.77900498, 15286.26641727, 23498.17671763,  7614.59332781,\n",
       "        9551.6680144 ,  7627.05842383,  7978.22964401, 31481.96452659,\n",
       "       42874.47634246, 10284.38817475, 10499.67954535,  5118.91797548,\n",
       "        5105.93552172, 13885.67256314, 16807.40236991, 11566.56217977,\n",
       "       13218.11232399,  3779.08045117, 11418.86723152,   100.66779159,\n",
       "       36145.15836621, 20207.32965828, 11229.91869786,  4071.1212445 ,\n",
       "       13256.73257089,  4024.58140831, 10936.64519821, 14975.79469713,\n",
       "       26669.5437001 , 10608.14312502, 30701.26967931, 13310.37231264,\n",
       "        8844.0306929 ,  3873.11580822, 21997.97956422, 37686.65569146,\n",
       "       26327.13641184,  2420.5103279 ,  7773.86206249,  8884.69271811,\n",
       "       30704.00474461, 37611.97364589, 21666.56760329,  9586.11272421,\n",
       "       16321.56930812,  9776.37820631, 11642.63628397, 36259.64029569,\n",
       "       11356.68690155,  9051.99254022,  3100.56488181, 15994.08520756,\n",
       "       23968.5296611 , 13852.15845836, 12089.74377415, 38756.36248617,\n",
       "       10194.10832327, 28935.96957247,  8866.01179326,  1799.16361228,\n",
       "        2094.91509111,  7050.95782402, 12669.5569867 , 10303.40239125,\n",
       "        6064.72641331, 41250.16622977,  4668.70992934,  7553.42503345,\n",
       "        3422.70566353, 13463.1591937 , 10407.48568772,  6478.2718372 ,\n",
       "       10871.27471957, 10731.29154633,  6442.10126782, 26424.15717781,\n",
       "        5616.51673141,  9188.41741937,  5254.45880962,  6372.087775  ,\n",
       "       10716.36502251, 10576.84064338,  8716.10171299, 13549.28951077,\n",
       "        4139.32819265,  8717.42384397,  3997.4008295 , 10465.44870226,\n",
       "       38570.07539948,  9296.24642832, 11370.06323382,  5733.95668582,\n",
       "        6664.99117362, 12855.40158284,  7403.58331454,  9840.59547462,\n",
       "        7631.87505142,  5043.94320408,  7642.9305836 , 45807.28797205,\n",
       "       15856.99778224, 16154.94691933,  5097.6232779 ,  5512.47624128,\n",
       "        4684.32169432,  2448.38335349,  6385.54050217,  8363.99447808,\n",
       "       14528.42443293,  4227.50594206, 13232.89417104, 36656.7509554 ,\n",
       "        6079.79421783, 29271.15139856,  1964.49337193,  6833.68359654,\n",
       "       12707.74178346, 44457.58664585,  9607.85811475,  9031.66449259,\n",
       "       42515.59557321, 11067.75421908,  5692.49665606,  1677.48793478,\n",
       "        9885.61563285,  5358.35721484, 12233.86370324, 13886.05770064,\n",
       "       13034.10291183,  4773.60941375, 27437.52820439, 15328.82679213,\n",
       "        8294.34075552, 10522.31517032, 10459.95520126, 10510.92400823,\n",
       "       13814.49717235,  4582.73037716,  1025.71929328, 13836.50293244,\n",
       "       37824.88043559, 14687.86210666, 10130.98985144,  5513.52587553,\n",
       "        6447.83042128,  7823.86525473, 37844.87749727, 37989.40101838,\n",
       "       36764.7615387 ,  2146.42730738, 37934.93175307, 13565.72985995,\n",
       "       12694.95377493, 11565.41448045, 36284.49503607])"
      ]
     },
     "execution_count": 189,
     "metadata": {},
     "output_type": "execute_result"
    }
   ],
   "source": [
    "final_pred"
   ]
  },
  {
   "cell_type": "code",
   "execution_count": 191,
   "id": "a64ca8e4",
   "metadata": {},
   "outputs": [],
   "source": [
    "submission = pd.DataFrame(final_pred)"
   ]
  },
  {
   "cell_type": "code",
   "execution_count": 193,
   "id": "dd4acff9",
   "metadata": {},
   "outputs": [],
   "source": [
    "submission.to_csv(\"C9106.csv\", index =False )"
   ]
  },
  {
   "cell_type": "code",
   "execution_count": null,
   "id": "9a5763ef",
   "metadata": {},
   "outputs": [],
   "source": []
  }
 ],
 "metadata": {
  "kernelspec": {
   "display_name": "Python 3",
   "language": "python",
   "name": "python3"
  },
  "language_info": {
   "codemirror_mode": {
    "name": "ipython",
    "version": 3
   },
   "file_extension": ".py",
   "mimetype": "text/x-python",
   "name": "python",
   "nbconvert_exporter": "python",
   "pygments_lexer": "ipython3",
   "version": "3.8.8"
  }
 },
 "nbformat": 4,
 "nbformat_minor": 5
}
